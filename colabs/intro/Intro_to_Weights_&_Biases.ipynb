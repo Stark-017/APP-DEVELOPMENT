{
  "cells": [
    {
      "cell_type": "markdown",
      "metadata": {
        "id": "view-in-github",
        "colab_type": "text"
      },
      "source": [
        "<a href=\"https://colab.research.google.com/github/Stark-017/APP-DEVELOPMENT/blob/main/colabs/intro/Intro_to_Weights_%26_Biases.ipynb\" target=\"_parent\"><img src=\"https://colab.research.google.com/assets/colab-badge.svg\" alt=\"Open In Colab\"/></a>"
      ]
    },
    {
      "cell_type": "markdown",
      "metadata": {
        "id": "3PyiRldW-bQ_"
      },
      "source": [
        "<a href=\"https://colab.research.google.com/github/wandb/examples/blob/master/colabs/intro/Intro_to_Weights_&_Biases.ipynb\" target=\"_parent\"><img src=\"https://colab.research.google.com/assets/colab-badge.svg\" alt=\"Open In Colab\"/></a>\n",
        "<!--- @wandbcode{intro-colab} -->"
      ]
    },
    {
      "cell_type": "markdown",
      "metadata": {
        "id": "KGp2q0jc-bRD"
      },
      "source": [
        "<a href=\"https://colab.research.google.com/github/wandb/examples/blob/master/colabs/intro/Intro_to_Weights_&_Biases.ipynb\" target=\"_parent\"><img src=\"https://colab.research.google.com/assets/colab-badge.svg\" alt=\"Open In Colab\"/></a>\n",
        "<!--- @wandbcode{intro-colab} -->"
      ]
    },
    {
      "cell_type": "markdown",
      "metadata": {
        "id": "3In8uPaF-bRD"
      },
      "source": [
        "<img src=\"http://wandb.me/logo-im-png\" width=\"400\" alt=\"Weights & Biases\" />\n",
        "<!--- @wandbcode{intro-colab} -->"
      ]
    },
    {
      "cell_type": "markdown",
      "metadata": {
        "id": "ntkDUYHw-bRE"
      },
      "source": [
        "Use [W&B](https://wandb.ai/site?utm_source=intro_colab&utm_medium=code&utm_campaign=intro) for machine learning experiment tracking, model checkpointing, collaboration with your team and more. See the full W&B Documentation [here](https://docs.wandb.ai/).\n",
        "\n",
        "In this notebook, you will create and track a machine learning experiment using a simple PyTorch model. By the end of the notebook, you will have an interactive project dashboard that you can share and customize with other members of your team. [View an example dashboard here](https://wandb.ai/wandb/wandb_example)."
      ]
    },
    {
      "cell_type": "markdown",
      "metadata": {
        "id": "FCIL2So_-bRE"
      },
      "source": [
        "## Prerequisites\n",
        "\n",
        "Install the W&B Python SDK and log in:"
      ]
    },
    {
      "cell_type": "code",
      "execution_count": 1,
      "metadata": {
        "colab": {
          "base_uri": "https://localhost:8080/",
          "height": 0
        },
        "id": "YJrzZpqI-bRF",
        "outputId": "c41c2b39-8a2e-42e5-8e76-ee4bbefaf03c"
      },
      "outputs": [
        {
          "output_type": "stream",
          "name": "stdout",
          "text": [
            "\u001b[?25l   \u001b[90m━━━━━━━━━━━━━━━━━━━━━━━━━━━━━━━━━━━━━━━━\u001b[0m \u001b[32m0.0/19.6 MB\u001b[0m \u001b[31m?\u001b[0m eta \u001b[36m-:--:--\u001b[0m\r\u001b[2K   \u001b[91m━━━━━━━━━━━━━\u001b[0m\u001b[90m╺\u001b[0m\u001b[90m━━━━━━━━━━━━━━━━━━━━━━━━━━\u001b[0m \u001b[32m6.4/19.6 MB\u001b[0m \u001b[31m191.7 MB/s\u001b[0m eta \u001b[36m0:00:01\u001b[0m\r\u001b[2K   \u001b[91m━━━━━━━━━━━━━━━━━━━━━━━━━━━━━\u001b[0m\u001b[90m╺\u001b[0m\u001b[90m━━━━━━━━━━\u001b[0m \u001b[32m14.2/19.6 MB\u001b[0m \u001b[31m215.6 MB/s\u001b[0m eta \u001b[36m0:00:01\u001b[0m\r\u001b[2K   \u001b[91m━━━━━━━━━━━━━━━━━━━━━━━━━━━━━━━━━━━━━━\u001b[0m\u001b[91m╸\u001b[0m\u001b[90m━\u001b[0m \u001b[32m18.9/19.6 MB\u001b[0m \u001b[31m241.0 MB/s\u001b[0m eta \u001b[36m0:00:01\u001b[0m\r\u001b[2K   \u001b[91m━━━━━━━━━━━━━━━━━━━━━━━━━━━━━━━━━━━━━━━\u001b[0m\u001b[91m╸\u001b[0m \u001b[32m19.6/19.6 MB\u001b[0m \u001b[31m167.9 MB/s\u001b[0m eta \u001b[36m0:00:01\u001b[0m\r\u001b[2K   \u001b[90m━━━━━━━━━━━━━━━━━━━━━━━━━━━━━━━━━━━━━━━━\u001b[0m \u001b[32m19.6/19.6 MB\u001b[0m \u001b[31m93.7 MB/s\u001b[0m eta \u001b[36m0:00:00\u001b[0m\n",
            "\u001b[?25h"
          ]
        }
      ],
      "source": [
        "!pip install wandb -qU"
      ]
    },
    {
      "cell_type": "code",
      "execution_count": 2,
      "metadata": {
        "id": "xPTIvzLb-bRG"
      },
      "outputs": [],
      "source": [
        "# Log in to your W&B account\n",
        "import wandb\n",
        "import random\n",
        "import math"
      ]
    },
    {
      "cell_type": "code",
      "execution_count": 3,
      "metadata": {
        "colab": {
          "base_uri": "https://localhost:8080/",
          "height": 245
        },
        "id": "FT8YqvAO-bRG",
        "outputId": "5a4336c3-4375-451c-a4df-8e32bb9a7be3"
      },
      "outputs": [
        {
          "output_type": "stream",
          "name": "stderr",
          "text": [
            "/usr/local/lib/python3.12/dist-packages/notebook/notebookapp.py:191: SyntaxWarning: invalid escape sequence '\\/'\n",
            "  | |_| | '_ \\/ _` / _` |  _/ -_)\n"
          ]
        },
        {
          "output_type": "display_data",
          "data": {
            "text/plain": [
              "<IPython.core.display.Javascript object>"
            ],
            "application/javascript": [
              "\n",
              "        window._wandbApiKey = new Promise((resolve, reject) => {\n",
              "            function loadScript(url) {\n",
              "            return new Promise(function(resolve, reject) {\n",
              "                let newScript = document.createElement(\"script\");\n",
              "                newScript.onerror = reject;\n",
              "                newScript.onload = resolve;\n",
              "                document.body.appendChild(newScript);\n",
              "                newScript.src = url;\n",
              "            });\n",
              "            }\n",
              "            loadScript(\"https://cdn.jsdelivr.net/npm/postmate/build/postmate.min.js\").then(() => {\n",
              "            const iframe = document.createElement('iframe')\n",
              "            iframe.style.cssText = \"width:0;height:0;border:none\"\n",
              "            document.body.appendChild(iframe)\n",
              "            const handshake = new Postmate({\n",
              "                container: iframe,\n",
              "                url: 'https://wandb.ai/authorize'\n",
              "            });\n",
              "            const timeout = setTimeout(() => reject(\"Couldn't auto authenticate\"), 5000)\n",
              "            handshake.then(function(child) {\n",
              "                child.on('authorize', data => {\n",
              "                    clearTimeout(timeout)\n",
              "                    resolve(data)\n",
              "                });\n",
              "            });\n",
              "            })\n",
              "        });\n",
              "    "
            ]
          },
          "metadata": {}
        },
        {
          "output_type": "stream",
          "name": "stderr",
          "text": [
            "\u001b[34m\u001b[1mwandb\u001b[0m: Logging into wandb.ai. (Learn how to deploy a W&B server locally: https://wandb.me/wandb-server)\n",
            "\u001b[34m\u001b[1mwandb\u001b[0m: You can find your API key in your browser here: https://wandb.ai/authorize\n",
            "wandb: Paste an API key from your profile and hit enter:"
          ]
        },
        {
          "name": "stdout",
          "output_type": "stream",
          "text": [
            " ··········\n"
          ]
        },
        {
          "output_type": "stream",
          "name": "stderr",
          "text": [
            "\u001b[34m\u001b[1mwandb\u001b[0m: \u001b[33mWARNING\u001b[0m If you're specifying your api key in code, ensure this code is not shared publicly.\n",
            "\u001b[34m\u001b[1mwandb\u001b[0m: \u001b[33mWARNING\u001b[0m Consider setting the WANDB_API_KEY environment variable, or running `wandb login` from the command line.\n",
            "\u001b[34m\u001b[1mwandb\u001b[0m: No netrc file found, creating one.\n",
            "\u001b[34m\u001b[1mwandb\u001b[0m: Appending key for api.wandb.ai to your netrc file: /root/.netrc\n",
            "\u001b[34m\u001b[1mwandb\u001b[0m: Currently logged in as: \u001b[33mar17\u001b[0m (\u001b[33mar17-svkm-s-narsee-monjee-institute-of-management-studies\u001b[0m) to \u001b[32mhttps://api.wandb.ai\u001b[0m. Use \u001b[1m`wandb login --relogin`\u001b[0m to force relogin\n"
          ]
        },
        {
          "output_type": "execute_result",
          "data": {
            "text/plain": [
              "True"
            ]
          },
          "metadata": {},
          "execution_count": 3
        }
      ],
      "source": [
        "wandb.login()"
      ]
    },
    {
      "cell_type": "markdown",
      "metadata": {
        "id": "7Bdl7-4N-bRH"
      },
      "source": [
        "## Simulate and track a machine learning experiment with W&B\n",
        "\n",
        "Create, track, and visualize a machine learning experiment. To do this:\n",
        "\n",
        "1. Initialize a [W&B run](https://docs.wandb.ai/guides/runs) and pass in the hyperparameters you want to track.\n",
        "2. Within your training loop, log metrics such as the accuracy and loss."
      ]
    },
    {
      "cell_type": "code",
      "execution_count": 4,
      "metadata": {
        "colab": {
          "base_uri": "https://localhost:8080/",
          "height": 2160
        },
        "id": "9DYulkSi-bRH",
        "outputId": "916364e9-ccb8-49b1-e414-b88d17da7e9e"
      },
      "outputs": [
        {
          "output_type": "display_data",
          "data": {
            "text/plain": [
              "<IPython.core.display.HTML object>"
            ],
            "text/html": []
          },
          "metadata": {}
        },
        {
          "output_type": "display_data",
          "data": {
            "text/plain": [
              "<IPython.core.display.HTML object>"
            ],
            "text/html": [
              "Tracking run with wandb version 0.22.0"
            ]
          },
          "metadata": {}
        },
        {
          "output_type": "display_data",
          "data": {
            "text/plain": [
              "<IPython.core.display.HTML object>"
            ],
            "text/html": [
              "Run data is saved locally in <code>/content/wandb/run-20250928_110209-9q4gi99x</code>"
            ]
          },
          "metadata": {}
        },
        {
          "output_type": "display_data",
          "data": {
            "text/plain": [
              "<IPython.core.display.HTML object>"
            ],
            "text/html": [
              "Syncing run <strong><a href='https://wandb.ai/ar17-svkm-s-narsee-monjee-institute-of-management-studies/basic-intro/runs/9q4gi99x' target=\"_blank\">experiment_0</a></strong> to <a href='https://wandb.ai/ar17-svkm-s-narsee-monjee-institute-of-management-studies/basic-intro' target=\"_blank\">Weights & Biases</a> (<a href='https://wandb.me/developer-guide' target=\"_blank\">docs</a>)<br>"
            ]
          },
          "metadata": {}
        },
        {
          "output_type": "display_data",
          "data": {
            "text/plain": [
              "<IPython.core.display.HTML object>"
            ],
            "text/html": [
              " View project at <a href='https://wandb.ai/ar17-svkm-s-narsee-monjee-institute-of-management-studies/basic-intro' target=\"_blank\">https://wandb.ai/ar17-svkm-s-narsee-monjee-institute-of-management-studies/basic-intro</a>"
            ]
          },
          "metadata": {}
        },
        {
          "output_type": "display_data",
          "data": {
            "text/plain": [
              "<IPython.core.display.HTML object>"
            ],
            "text/html": [
              " View run at <a href='https://wandb.ai/ar17-svkm-s-narsee-monjee-institute-of-management-studies/basic-intro/runs/9q4gi99x' target=\"_blank\">https://wandb.ai/ar17-svkm-s-narsee-monjee-institute-of-management-studies/basic-intro/runs/9q4gi99x</a>"
            ]
          },
          "metadata": {}
        },
        {
          "output_type": "display_data",
          "data": {
            "text/plain": [
              "<IPython.core.display.HTML object>"
            ],
            "text/html": []
          },
          "metadata": {}
        },
        {
          "output_type": "display_data",
          "data": {
            "text/plain": [
              "<IPython.core.display.HTML object>"
            ],
            "text/html": [
              "<br>    <style><br>        .wandb-row {<br>            display: flex;<br>            flex-direction: row;<br>            flex-wrap: wrap;<br>            justify-content: flex-start;<br>            width: 100%;<br>        }<br>        .wandb-col {<br>            display: flex;<br>            flex-direction: column;<br>            flex-basis: 100%;<br>            flex: 1;<br>            padding: 10px;<br>        }<br>    </style><br><div class=\"wandb-row\"><div class=\"wandb-col\"><h3>Run history:</h3><br/><table class=\"wandb\"><tr><td>acc</td><td>▁▄█▆█▇▇█</td></tr><tr><td>loss</td><td>█▃▃▂▁▁▂▁</td></tr></table><br/></div><div class=\"wandb-col\"><h3>Run summary:</h3><br/><table class=\"wandb\"><tr><td>acc</td><td>0.8168</td></tr><tr><td>loss</td><td>0.20011</td></tr></table><br/></div></div>"
            ]
          },
          "metadata": {}
        },
        {
          "output_type": "display_data",
          "data": {
            "text/plain": [
              "<IPython.core.display.HTML object>"
            ],
            "text/html": [
              " View run <strong style=\"color:#cdcd00\">experiment_0</strong> at: <a href='https://wandb.ai/ar17-svkm-s-narsee-monjee-institute-of-management-studies/basic-intro/runs/9q4gi99x' target=\"_blank\">https://wandb.ai/ar17-svkm-s-narsee-monjee-institute-of-management-studies/basic-intro/runs/9q4gi99x</a><br> View project at: <a href='https://wandb.ai/ar17-svkm-s-narsee-monjee-institute-of-management-studies/basic-intro' target=\"_blank\">https://wandb.ai/ar17-svkm-s-narsee-monjee-institute-of-management-studies/basic-intro</a><br>Synced 5 W&B file(s), 0 media file(s), 0 artifact file(s) and 0 other file(s)"
            ]
          },
          "metadata": {}
        },
        {
          "output_type": "display_data",
          "data": {
            "text/plain": [
              "<IPython.core.display.HTML object>"
            ],
            "text/html": [
              "Find logs at: <code>./wandb/run-20250928_110209-9q4gi99x/logs</code>"
            ]
          },
          "metadata": {}
        },
        {
          "output_type": "display_data",
          "data": {
            "text/plain": [
              "<IPython.core.display.HTML object>"
            ],
            "text/html": []
          },
          "metadata": {}
        },
        {
          "output_type": "display_data",
          "data": {
            "text/plain": [
              "<IPython.core.display.HTML object>"
            ],
            "text/html": [
              "Tracking run with wandb version 0.22.0"
            ]
          },
          "metadata": {}
        },
        {
          "output_type": "display_data",
          "data": {
            "text/plain": [
              "<IPython.core.display.HTML object>"
            ],
            "text/html": [
              "Run data is saved locally in <code>/content/wandb/run-20250928_110213-eeiovtmt</code>"
            ]
          },
          "metadata": {}
        },
        {
          "output_type": "display_data",
          "data": {
            "text/plain": [
              "<IPython.core.display.HTML object>"
            ],
            "text/html": [
              "Syncing run <strong><a href='https://wandb.ai/ar17-svkm-s-narsee-monjee-institute-of-management-studies/basic-intro/runs/eeiovtmt' target=\"_blank\">experiment_1</a></strong> to <a href='https://wandb.ai/ar17-svkm-s-narsee-monjee-institute-of-management-studies/basic-intro' target=\"_blank\">Weights & Biases</a> (<a href='https://wandb.me/developer-guide' target=\"_blank\">docs</a>)<br>"
            ]
          },
          "metadata": {}
        },
        {
          "output_type": "display_data",
          "data": {
            "text/plain": [
              "<IPython.core.display.HTML object>"
            ],
            "text/html": [
              " View project at <a href='https://wandb.ai/ar17-svkm-s-narsee-monjee-institute-of-management-studies/basic-intro' target=\"_blank\">https://wandb.ai/ar17-svkm-s-narsee-monjee-institute-of-management-studies/basic-intro</a>"
            ]
          },
          "metadata": {}
        },
        {
          "output_type": "display_data",
          "data": {
            "text/plain": [
              "<IPython.core.display.HTML object>"
            ],
            "text/html": [
              " View run at <a href='https://wandb.ai/ar17-svkm-s-narsee-monjee-institute-of-management-studies/basic-intro/runs/eeiovtmt' target=\"_blank\">https://wandb.ai/ar17-svkm-s-narsee-monjee-institute-of-management-studies/basic-intro/runs/eeiovtmt</a>"
            ]
          },
          "metadata": {}
        },
        {
          "output_type": "display_data",
          "data": {
            "text/plain": [
              "<IPython.core.display.HTML object>"
            ],
            "text/html": []
          },
          "metadata": {}
        },
        {
          "output_type": "display_data",
          "data": {
            "text/plain": [
              "<IPython.core.display.HTML object>"
            ],
            "text/html": [
              "<br>    <style><br>        .wandb-row {<br>            display: flex;<br>            flex-direction: row;<br>            flex-wrap: wrap;<br>            justify-content: flex-start;<br>            width: 100%;<br>        }<br>        .wandb-col {<br>            display: flex;<br>            flex-direction: column;<br>            flex-basis: 100%;<br>            flex: 1;<br>            padding: 10px;<br>        }<br>    </style><br><div class=\"wandb-row\"><div class=\"wandb-col\"><h3>Run history:</h3><br/><table class=\"wandb\"><tr><td>acc</td><td>▁▃▅▆▇▇█▇</td></tr><tr><td>loss</td><td>█▆▄▃▂▁▂▂</td></tr></table><br/></div><div class=\"wandb-col\"><h3>Run summary:</h3><br/><table class=\"wandb\"><tr><td>acc</td><td>0.79233</td></tr><tr><td>loss</td><td>0.20805</td></tr></table><br/></div></div>"
            ]
          },
          "metadata": {}
        },
        {
          "output_type": "display_data",
          "data": {
            "text/plain": [
              "<IPython.core.display.HTML object>"
            ],
            "text/html": [
              " View run <strong style=\"color:#cdcd00\">experiment_1</strong> at: <a href='https://wandb.ai/ar17-svkm-s-narsee-monjee-institute-of-management-studies/basic-intro/runs/eeiovtmt' target=\"_blank\">https://wandb.ai/ar17-svkm-s-narsee-monjee-institute-of-management-studies/basic-intro/runs/eeiovtmt</a><br> View project at: <a href='https://wandb.ai/ar17-svkm-s-narsee-monjee-institute-of-management-studies/basic-intro' target=\"_blank\">https://wandb.ai/ar17-svkm-s-narsee-monjee-institute-of-management-studies/basic-intro</a><br>Synced 5 W&B file(s), 0 media file(s), 0 artifact file(s) and 0 other file(s)"
            ]
          },
          "metadata": {}
        },
        {
          "output_type": "display_data",
          "data": {
            "text/plain": [
              "<IPython.core.display.HTML object>"
            ],
            "text/html": [
              "Find logs at: <code>./wandb/run-20250928_110213-eeiovtmt/logs</code>"
            ]
          },
          "metadata": {}
        },
        {
          "output_type": "display_data",
          "data": {
            "text/plain": [
              "<IPython.core.display.HTML object>"
            ],
            "text/html": []
          },
          "metadata": {}
        },
        {
          "output_type": "display_data",
          "data": {
            "text/plain": [
              "<IPython.core.display.HTML object>"
            ],
            "text/html": [
              "Tracking run with wandb version 0.22.0"
            ]
          },
          "metadata": {}
        },
        {
          "output_type": "display_data",
          "data": {
            "text/plain": [
              "<IPython.core.display.HTML object>"
            ],
            "text/html": [
              "Run data is saved locally in <code>/content/wandb/run-20250928_110216-whknhj5u</code>"
            ]
          },
          "metadata": {}
        },
        {
          "output_type": "display_data",
          "data": {
            "text/plain": [
              "<IPython.core.display.HTML object>"
            ],
            "text/html": [
              "Syncing run <strong><a href='https://wandb.ai/ar17-svkm-s-narsee-monjee-institute-of-management-studies/basic-intro/runs/whknhj5u' target=\"_blank\">experiment_2</a></strong> to <a href='https://wandb.ai/ar17-svkm-s-narsee-monjee-institute-of-management-studies/basic-intro' target=\"_blank\">Weights & Biases</a> (<a href='https://wandb.me/developer-guide' target=\"_blank\">docs</a>)<br>"
            ]
          },
          "metadata": {}
        },
        {
          "output_type": "display_data",
          "data": {
            "text/plain": [
              "<IPython.core.display.HTML object>"
            ],
            "text/html": [
              " View project at <a href='https://wandb.ai/ar17-svkm-s-narsee-monjee-institute-of-management-studies/basic-intro' target=\"_blank\">https://wandb.ai/ar17-svkm-s-narsee-monjee-institute-of-management-studies/basic-intro</a>"
            ]
          },
          "metadata": {}
        },
        {
          "output_type": "display_data",
          "data": {
            "text/plain": [
              "<IPython.core.display.HTML object>"
            ],
            "text/html": [
              " View run at <a href='https://wandb.ai/ar17-svkm-s-narsee-monjee-institute-of-management-studies/basic-intro/runs/whknhj5u' target=\"_blank\">https://wandb.ai/ar17-svkm-s-narsee-monjee-institute-of-management-studies/basic-intro/runs/whknhj5u</a>"
            ]
          },
          "metadata": {}
        },
        {
          "output_type": "display_data",
          "data": {
            "text/plain": [
              "<IPython.core.display.HTML object>"
            ],
            "text/html": []
          },
          "metadata": {}
        },
        {
          "output_type": "display_data",
          "data": {
            "text/plain": [
              "<IPython.core.display.HTML object>"
            ],
            "text/html": [
              "<br>    <style><br>        .wandb-row {<br>            display: flex;<br>            flex-direction: row;<br>            flex-wrap: wrap;<br>            justify-content: flex-start;<br>            width: 100%;<br>        }<br>        .wandb-col {<br>            display: flex;<br>            flex-direction: column;<br>            flex-basis: 100%;<br>            flex: 1;<br>            padding: 10px;<br>        }<br>    </style><br><div class=\"wandb-row\"><div class=\"wandb-col\"><h3>Run history:</h3><br/><table class=\"wandb\"><tr><td>acc</td><td>▁▃▆▆█▆▇█</td></tr><tr><td>loss</td><td>▆█▄▃▁▁▂▂</td></tr></table><br/></div><div class=\"wandb-col\"><h3>Run summary:</h3><br/><table class=\"wandb\"><tr><td>acc</td><td>0.81171</td></tr><tr><td>loss</td><td>0.24786</td></tr></table><br/></div></div>"
            ]
          },
          "metadata": {}
        },
        {
          "output_type": "display_data",
          "data": {
            "text/plain": [
              "<IPython.core.display.HTML object>"
            ],
            "text/html": [
              " View run <strong style=\"color:#cdcd00\">experiment_2</strong> at: <a href='https://wandb.ai/ar17-svkm-s-narsee-monjee-institute-of-management-studies/basic-intro/runs/whknhj5u' target=\"_blank\">https://wandb.ai/ar17-svkm-s-narsee-monjee-institute-of-management-studies/basic-intro/runs/whknhj5u</a><br> View project at: <a href='https://wandb.ai/ar17-svkm-s-narsee-monjee-institute-of-management-studies/basic-intro' target=\"_blank\">https://wandb.ai/ar17-svkm-s-narsee-monjee-institute-of-management-studies/basic-intro</a><br>Synced 5 W&B file(s), 0 media file(s), 0 artifact file(s) and 0 other file(s)"
            ]
          },
          "metadata": {}
        },
        {
          "output_type": "display_data",
          "data": {
            "text/plain": [
              "<IPython.core.display.HTML object>"
            ],
            "text/html": [
              "Find logs at: <code>./wandb/run-20250928_110216-whknhj5u/logs</code>"
            ]
          },
          "metadata": {}
        },
        {
          "output_type": "display_data",
          "data": {
            "text/plain": [
              "<IPython.core.display.HTML object>"
            ],
            "text/html": []
          },
          "metadata": {}
        },
        {
          "output_type": "display_data",
          "data": {
            "text/plain": [
              "<IPython.core.display.HTML object>"
            ],
            "text/html": [
              "Tracking run with wandb version 0.22.0"
            ]
          },
          "metadata": {}
        },
        {
          "output_type": "display_data",
          "data": {
            "text/plain": [
              "<IPython.core.display.HTML object>"
            ],
            "text/html": [
              "Run data is saved locally in <code>/content/wandb/run-20250928_110220-s3smb2vj</code>"
            ]
          },
          "metadata": {}
        },
        {
          "output_type": "display_data",
          "data": {
            "text/plain": [
              "<IPython.core.display.HTML object>"
            ],
            "text/html": [
              "Syncing run <strong><a href='https://wandb.ai/ar17-svkm-s-narsee-monjee-institute-of-management-studies/basic-intro/runs/s3smb2vj' target=\"_blank\">experiment_3</a></strong> to <a href='https://wandb.ai/ar17-svkm-s-narsee-monjee-institute-of-management-studies/basic-intro' target=\"_blank\">Weights & Biases</a> (<a href='https://wandb.me/developer-guide' target=\"_blank\">docs</a>)<br>"
            ]
          },
          "metadata": {}
        },
        {
          "output_type": "display_data",
          "data": {
            "text/plain": [
              "<IPython.core.display.HTML object>"
            ],
            "text/html": [
              " View project at <a href='https://wandb.ai/ar17-svkm-s-narsee-monjee-institute-of-management-studies/basic-intro' target=\"_blank\">https://wandb.ai/ar17-svkm-s-narsee-monjee-institute-of-management-studies/basic-intro</a>"
            ]
          },
          "metadata": {}
        },
        {
          "output_type": "display_data",
          "data": {
            "text/plain": [
              "<IPython.core.display.HTML object>"
            ],
            "text/html": [
              " View run at <a href='https://wandb.ai/ar17-svkm-s-narsee-monjee-institute-of-management-studies/basic-intro/runs/s3smb2vj' target=\"_blank\">https://wandb.ai/ar17-svkm-s-narsee-monjee-institute-of-management-studies/basic-intro/runs/s3smb2vj</a>"
            ]
          },
          "metadata": {}
        },
        {
          "output_type": "display_data",
          "data": {
            "text/plain": [
              "<IPython.core.display.HTML object>"
            ],
            "text/html": []
          },
          "metadata": {}
        },
        {
          "output_type": "display_data",
          "data": {
            "text/plain": [
              "<IPython.core.display.HTML object>"
            ],
            "text/html": [
              "<br>    <style><br>        .wandb-row {<br>            display: flex;<br>            flex-direction: row;<br>            flex-wrap: wrap;<br>            justify-content: flex-start;<br>            width: 100%;<br>        }<br>        .wandb-col {<br>            display: flex;<br>            flex-direction: column;<br>            flex-basis: 100%;<br>            flex: 1;<br>            padding: 10px;<br>        }<br>    </style><br><div class=\"wandb-row\"><div class=\"wandb-col\"><h3>Run history:</h3><br/><table class=\"wandb\"><tr><td>acc</td><td>▁▆▇█▇▇█▇</td></tr><tr><td>loss</td><td>█▇▂▃▁▂▂▁</td></tr></table><br/></div><div class=\"wandb-col\"><h3>Run summary:</h3><br/><table class=\"wandb\"><tr><td>acc</td><td>0.86864</td></tr><tr><td>loss</td><td>0.03779</td></tr></table><br/></div></div>"
            ]
          },
          "metadata": {}
        },
        {
          "output_type": "display_data",
          "data": {
            "text/plain": [
              "<IPython.core.display.HTML object>"
            ],
            "text/html": [
              " View run <strong style=\"color:#cdcd00\">experiment_3</strong> at: <a href='https://wandb.ai/ar17-svkm-s-narsee-monjee-institute-of-management-studies/basic-intro/runs/s3smb2vj' target=\"_blank\">https://wandb.ai/ar17-svkm-s-narsee-monjee-institute-of-management-studies/basic-intro/runs/s3smb2vj</a><br> View project at: <a href='https://wandb.ai/ar17-svkm-s-narsee-monjee-institute-of-management-studies/basic-intro' target=\"_blank\">https://wandb.ai/ar17-svkm-s-narsee-monjee-institute-of-management-studies/basic-intro</a><br>Synced 5 W&B file(s), 0 media file(s), 0 artifact file(s) and 0 other file(s)"
            ]
          },
          "metadata": {}
        },
        {
          "output_type": "display_data",
          "data": {
            "text/plain": [
              "<IPython.core.display.HTML object>"
            ],
            "text/html": [
              "Find logs at: <code>./wandb/run-20250928_110220-s3smb2vj/logs</code>"
            ]
          },
          "metadata": {}
        },
        {
          "output_type": "display_data",
          "data": {
            "text/plain": [
              "<IPython.core.display.HTML object>"
            ],
            "text/html": []
          },
          "metadata": {}
        },
        {
          "output_type": "display_data",
          "data": {
            "text/plain": [
              "<IPython.core.display.HTML object>"
            ],
            "text/html": [
              "Tracking run with wandb version 0.22.0"
            ]
          },
          "metadata": {}
        },
        {
          "output_type": "display_data",
          "data": {
            "text/plain": [
              "<IPython.core.display.HTML object>"
            ],
            "text/html": [
              "Run data is saved locally in <code>/content/wandb/run-20250928_110224-042yub6i</code>"
            ]
          },
          "metadata": {}
        },
        {
          "output_type": "display_data",
          "data": {
            "text/plain": [
              "<IPython.core.display.HTML object>"
            ],
            "text/html": [
              "Syncing run <strong><a href='https://wandb.ai/ar17-svkm-s-narsee-monjee-institute-of-management-studies/basic-intro/runs/042yub6i' target=\"_blank\">experiment_4</a></strong> to <a href='https://wandb.ai/ar17-svkm-s-narsee-monjee-institute-of-management-studies/basic-intro' target=\"_blank\">Weights & Biases</a> (<a href='https://wandb.me/developer-guide' target=\"_blank\">docs</a>)<br>"
            ]
          },
          "metadata": {}
        },
        {
          "output_type": "display_data",
          "data": {
            "text/plain": [
              "<IPython.core.display.HTML object>"
            ],
            "text/html": [
              " View project at <a href='https://wandb.ai/ar17-svkm-s-narsee-monjee-institute-of-management-studies/basic-intro' target=\"_blank\">https://wandb.ai/ar17-svkm-s-narsee-monjee-institute-of-management-studies/basic-intro</a>"
            ]
          },
          "metadata": {}
        },
        {
          "output_type": "display_data",
          "data": {
            "text/plain": [
              "<IPython.core.display.HTML object>"
            ],
            "text/html": [
              " View run at <a href='https://wandb.ai/ar17-svkm-s-narsee-monjee-institute-of-management-studies/basic-intro/runs/042yub6i' target=\"_blank\">https://wandb.ai/ar17-svkm-s-narsee-monjee-institute-of-management-studies/basic-intro/runs/042yub6i</a>"
            ]
          },
          "metadata": {}
        },
        {
          "output_type": "display_data",
          "data": {
            "text/plain": [
              "<IPython.core.display.HTML object>"
            ],
            "text/html": []
          },
          "metadata": {}
        },
        {
          "output_type": "display_data",
          "data": {
            "text/plain": [
              "<IPython.core.display.HTML object>"
            ],
            "text/html": [
              "<br>    <style><br>        .wandb-row {<br>            display: flex;<br>            flex-direction: row;<br>            flex-wrap: wrap;<br>            justify-content: flex-start;<br>            width: 100%;<br>        }<br>        .wandb-col {<br>            display: flex;<br>            flex-direction: column;<br>            flex-basis: 100%;<br>            flex: 1;<br>            padding: 10px;<br>        }<br>    </style><br><div class=\"wandb-row\"><div class=\"wandb-col\"><h3>Run history:</h3><br/><table class=\"wandb\"><tr><td>acc</td><td>▁▂▅▅▆███</td></tr><tr><td>loss</td><td>█▆▅▃▃▁▁▂</td></tr></table><br/></div><div class=\"wandb-col\"><h3>Run summary:</h3><br/><table class=\"wandb\"><tr><td>acc</td><td>0.80608</td></tr><tr><td>loss</td><td>0.25263</td></tr></table><br/></div></div>"
            ]
          },
          "metadata": {}
        },
        {
          "output_type": "display_data",
          "data": {
            "text/plain": [
              "<IPython.core.display.HTML object>"
            ],
            "text/html": [
              " View run <strong style=\"color:#cdcd00\">experiment_4</strong> at: <a href='https://wandb.ai/ar17-svkm-s-narsee-monjee-institute-of-management-studies/basic-intro/runs/042yub6i' target=\"_blank\">https://wandb.ai/ar17-svkm-s-narsee-monjee-institute-of-management-studies/basic-intro/runs/042yub6i</a><br> View project at: <a href='https://wandb.ai/ar17-svkm-s-narsee-monjee-institute-of-management-studies/basic-intro' target=\"_blank\">https://wandb.ai/ar17-svkm-s-narsee-monjee-institute-of-management-studies/basic-intro</a><br>Synced 5 W&B file(s), 0 media file(s), 0 artifact file(s) and 0 other file(s)"
            ]
          },
          "metadata": {}
        },
        {
          "output_type": "display_data",
          "data": {
            "text/plain": [
              "<IPython.core.display.HTML object>"
            ],
            "text/html": [
              "Find logs at: <code>./wandb/run-20250928_110224-042yub6i/logs</code>"
            ]
          },
          "metadata": {}
        }
      ],
      "source": [
        "import random\n",
        "import math\n",
        "\n",
        "# Launch 5 simulated experiments\n",
        "total_runs = 5\n",
        "for run in range(total_runs):\n",
        "  # 1️. Start a new run to track this script\n",
        "  wandb.init(\n",
        "      # Set the project where this run will be logged\n",
        "      project=\"basic-intro\",\n",
        "      # We pass a run name (otherwise it’ll be randomly assigned, like sunshine-lollypop-10)\n",
        "      name=f\"experiment_{run}\",\n",
        "      # Track hyperparameters and run metadata\n",
        "      config={\n",
        "      \"learning_rate\": 0.02,\n",
        "      \"architecture\": \"CNN\",\n",
        "      \"dataset\": \"CIFAR-100\",\n",
        "      \"epochs\": 10,\n",
        "      })\n",
        "\n",
        "  # This simple block simulates a training loop logging metrics\n",
        "  epochs = 10\n",
        "  offset = random.random() / 5\n",
        "  for epoch in range(2, epochs):\n",
        "      acc = 1 - 2 ** -epoch - random.random() / epoch - offset\n",
        "      loss = 2 ** -epoch + random.random() / epoch + offset\n",
        "\n",
        "      # 2️. Log metrics from your script to W&B\n",
        "      wandb.log({\"acc\": acc, \"loss\": loss})\n",
        "\n",
        "  # Mark the run as finished\n",
        "  wandb.finish()"
      ]
    },
    {
      "cell_type": "markdown",
      "metadata": {
        "id": "No7xjrCD-bRI"
      },
      "source": [
        "View how your machine learning peformed in your W&B project. Copy and paste the URL link that is printed from the previous cell. The URL will redirect you to a W&B project that contains a dashboard showing graphs the show how\n",
        "\n",
        "The following image shows what a dashboard can look like:"
      ]
    },
    {
      "cell_type": "markdown",
      "metadata": {
        "id": "Zh9ukuay-bRI"
      },
      "source": [
        "![](https://i.imgur.com/Pell4Oo.png)"
      ]
    },
    {
      "cell_type": "markdown",
      "metadata": {
        "id": "h8HiM6X7-bRI"
      },
      "source": [
        "Now that we know how to integrate W&B into a psuedo machine learning training loop, let's track a machine learning experiment using a basic PyTorch neural network. The following code will also upload model checkpoints to W&B that you can then share with other teams in in your organization.\n",
        "\n",
        "##  Track a machine learning experiment using Pytorch\n",
        "\n",
        "The following code cell defines and trains a simple MNIST classifier. During training, you will see W&B prints out URLs. Click on the project page link to see your results stream in live to a W&B project.\n",
        "\n",
        "W&B runs automatically log [metrics](https://docs.wandb.ai/ref/app/pages/run-page#charts-tab),\n",
        "[system information](https://docs.wandb.ai/ref/app/pages/run-page#system-tab),\n",
        "[hyperparameters](https://docs.wandb.ai/ref/app/pages/run-page#overview-tab),\n",
        "[terminal output](https://docs.wandb.ai/ref/app/pages/run-page#logs-tab) and\n",
        "you'll see an [interactive table](https://docs.wandb.ai/guides/data-vis)\n",
        "with model inputs and outputs.\n",
        "\n",
        "### Set up PyTorch Dataloader\n",
        "The following cell defines some useful functions that we will need to train our machine learning model. The functions themselves are not unique to W&B so we'll not cover them in detail here. See the PyTorch documentation for more information on how to define [forward and backward training loop](https://pytorch.org/tutorials/beginner/nn_tutorial.html), how to use [PyTorch DataLoaders](https://pytorch.org/tutorials/beginner/basics/data_tutorial.html) to load data in for training, and how define PyTorch models using the [`torch.nn.Sequential` Class](https://pytorch.org/docs/stable/generated/torch.nn.Sequential.html)."
      ]
    },
    {
      "cell_type": "code",
      "execution_count": 5,
      "metadata": {
        "id": "YXaistlw-bRI"
      },
      "outputs": [],
      "source": [
        "#@title\n",
        "import torch, torchvision\n",
        "import torch.nn as nn\n",
        "from torchvision.datasets import MNIST\n",
        "import torchvision.transforms as T\n",
        "\n",
        "MNIST.mirrors = [mirror for mirror in MNIST.mirrors if \"http://yann.lecun.com/\" not in mirror]\n",
        "\n",
        "device = \"cuda:0\" if torch.cuda.is_available() else \"cpu\"\n",
        "\n",
        "def get_dataloader(is_train, batch_size, slice=5):\n",
        "    \"Get a training dataloader\"\n",
        "    full_dataset = MNIST(root=\".\", train=is_train, transform=T.ToTensor(), download=True)\n",
        "    sub_dataset = torch.utils.data.Subset(full_dataset, indices=range(0, len(full_dataset), slice))\n",
        "    loader = torch.utils.data.DataLoader(dataset=sub_dataset,\n",
        "                                         batch_size=batch_size,\n",
        "                                         shuffle=True if is_train else False,\n",
        "                                         pin_memory=True, num_workers=2)\n",
        "    return loader\n",
        "\n",
        "def get_model(dropout):\n",
        "    \"A simple model\"\n",
        "    model = nn.Sequential(nn.Flatten(),\n",
        "                         nn.Linear(28*28, 256),\n",
        "                         nn.BatchNorm1d(256),\n",
        "                         nn.ReLU(),\n",
        "                         nn.Dropout(dropout),\n",
        "                         nn.Linear(256,10)).to(device)\n",
        "    return model\n",
        "\n",
        "def validate_model(model, valid_dl, loss_func, log_images=False, batch_idx=0):\n",
        "    \"Compute performance of the model on the validation dataset and log a wandb.Table\"\n",
        "    model.eval()\n",
        "    val_loss = 0.\n",
        "    with torch.inference_mode():\n",
        "        correct = 0\n",
        "        for i, (images, labels) in enumerate(valid_dl):\n",
        "            images, labels = images.to(device), labels.to(device)\n",
        "\n",
        "            # Forward pass ➡\n",
        "            outputs = model(images)\n",
        "            val_loss += loss_func(outputs, labels)*labels.size(0)\n",
        "\n",
        "            # Compute accuracy and accumulate\n",
        "            _, predicted = torch.max(outputs.data, 1)\n",
        "            correct += (predicted == labels).sum().item()\n",
        "\n",
        "            # Log one batch of images to the dashboard, always same batch_idx.\n",
        "            if i==batch_idx and log_images:\n",
        "                log_image_table(images, predicted, labels, outputs.softmax(dim=1))\n",
        "    return val_loss / len(valid_dl.dataset), correct / len(valid_dl.dataset)"
      ]
    },
    {
      "cell_type": "markdown",
      "metadata": {
        "id": "ygpbVgjD-bRJ"
      },
      "source": [
        "### Create a table to compare the predicted values versus the true value\n",
        "\n",
        "The following cell is unique to W&B, so let's go over it.\n",
        "\n",
        "In the cell we define a function called `log_image_table`. Though technically, optional, this function creates a W&B Table object. We will use the table object to create a table that shows what the model predicted for each image.\n",
        "\n",
        "More specifically, each row will conists of the image fed to the model, along with predicted value and the actual value (label)."
      ]
    },
    {
      "cell_type": "code",
      "execution_count": 6,
      "metadata": {
        "id": "dN76MjRx-bRJ"
      },
      "outputs": [],
      "source": [
        "def log_image_table(images, predicted, labels, probs):\n",
        "    \"Log a wandb.Table with (img, pred, target, scores)\"\n",
        "    # Create a wandb Table to log images, labels and predictions to\n",
        "    table = wandb.Table(columns=[\"image\", \"pred\", \"target\"]+[f\"score_{i}\" for i in range(10)])\n",
        "    for img, pred, targ, prob in zip(images.to(\"cpu\"), predicted.to(\"cpu\"), labels.to(\"cpu\"), probs.to(\"cpu\")):\n",
        "        table.add_data(wandb.Image(img[0].numpy()*255), pred, targ, *prob.numpy())\n",
        "    wandb.log({\"predictions_table\":table}, commit=False)"
      ]
    },
    {
      "cell_type": "markdown",
      "metadata": {
        "id": "hut3BGjl-bRJ"
      },
      "source": [
        "### Train your model and upload checkpoints\n",
        "\n",
        "The following code trains and saves model checkpoints to your project. Use model checkpoints like you normally would to assess how the model performed during training.\n",
        "\n",
        "W&B also makes it easy to share your saved models and model checkpoints with other members of your team or organization. To learn how to share your model and model checkpoints with members outside of your team, see [W&B Registry](https://docs.wandb.ai/guides/registry)."
      ]
    },
    {
      "cell_type": "code",
      "execution_count": 7,
      "metadata": {
        "colab": {
          "base_uri": "https://localhost:8080/",
          "height": 2072
        },
        "id": "vq4MqQVz-bRK",
        "outputId": "90991714-a2b9-4e09-a97c-23d31d4c055c"
      },
      "outputs": [
        {
          "output_type": "display_data",
          "data": {
            "text/plain": [
              "<IPython.core.display.HTML object>"
            ],
            "text/html": []
          },
          "metadata": {}
        },
        {
          "output_type": "display_data",
          "data": {
            "text/plain": [
              "<IPython.core.display.HTML object>"
            ],
            "text/html": [
              "Tracking run with wandb version 0.22.0"
            ]
          },
          "metadata": {}
        },
        {
          "output_type": "display_data",
          "data": {
            "text/plain": [
              "<IPython.core.display.HTML object>"
            ],
            "text/html": [
              "Run data is saved locally in <code>/content/wandb/run-20250928_110238-yp3uxn2t</code>"
            ]
          },
          "metadata": {}
        },
        {
          "output_type": "display_data",
          "data": {
            "text/plain": [
              "<IPython.core.display.HTML object>"
            ],
            "text/html": [
              "Syncing run <strong><a href='https://wandb.ai/ar17-svkm-s-narsee-monjee-institute-of-management-studies/pytorch-intro/runs/yp3uxn2t' target=\"_blank\">crimson-rain-5</a></strong> to <a href='https://wandb.ai/ar17-svkm-s-narsee-monjee-institute-of-management-studies/pytorch-intro' target=\"_blank\">Weights & Biases</a> (<a href='https://wandb.me/developer-guide' target=\"_blank\">docs</a>)<br>"
            ]
          },
          "metadata": {}
        },
        {
          "output_type": "display_data",
          "data": {
            "text/plain": [
              "<IPython.core.display.HTML object>"
            ],
            "text/html": [
              " View project at <a href='https://wandb.ai/ar17-svkm-s-narsee-monjee-institute-of-management-studies/pytorch-intro' target=\"_blank\">https://wandb.ai/ar17-svkm-s-narsee-monjee-institute-of-management-studies/pytorch-intro</a>"
            ]
          },
          "metadata": {}
        },
        {
          "output_type": "display_data",
          "data": {
            "text/plain": [
              "<IPython.core.display.HTML object>"
            ],
            "text/html": [
              " View run at <a href='https://wandb.ai/ar17-svkm-s-narsee-monjee-institute-of-management-studies/pytorch-intro/runs/yp3uxn2t' target=\"_blank\">https://wandb.ai/ar17-svkm-s-narsee-monjee-institute-of-management-studies/pytorch-intro/runs/yp3uxn2t</a>"
            ]
          },
          "metadata": {}
        },
        {
          "output_type": "stream",
          "name": "stderr",
          "text": [
            "100%|██████████| 9.91M/9.91M [00:02<00:00, 4.77MB/s]\n",
            "100%|██████████| 28.9k/28.9k [00:00<00:00, 131kB/s]\n",
            "100%|██████████| 1.65M/1.65M [00:01<00:00, 1.06MB/s]\n",
            "100%|██████████| 4.54k/4.54k [00:00<00:00, 6.30MB/s]\n"
          ]
        },
        {
          "output_type": "stream",
          "name": "stdout",
          "text": [
            "Epoch: 1, Train Loss: 0.353, Valid Loss: 0.297448, Accuracy: 0.92\n",
            "Epoch: 2, Train Loss: 0.308, Valid Loss: 0.237888, Accuracy: 0.93\n",
            "Epoch: 3, Train Loss: 0.100, Valid Loss: 0.208121, Accuracy: 0.94\n",
            "Epoch: 4, Train Loss: 0.189, Valid Loss: 0.195465, Accuracy: 0.94\n",
            "Epoch: 5, Train Loss: 0.142, Valid Loss: 0.180010, Accuracy: 0.94\n"
          ]
        },
        {
          "output_type": "display_data",
          "data": {
            "text/plain": [
              "<IPython.core.display.HTML object>"
            ],
            "text/html": []
          },
          "metadata": {}
        },
        {
          "output_type": "display_data",
          "data": {
            "text/plain": [
              "<IPython.core.display.HTML object>"
            ],
            "text/html": [
              "<br>    <style><br>        .wandb-row {<br>            display: flex;<br>            flex-direction: row;<br>            flex-wrap: wrap;<br>            justify-content: flex-start;<br>            width: 100%;<br>        }<br>        .wandb-col {<br>            display: flex;<br>            flex-direction: column;<br>            flex-basis: 100%;<br>            flex: 1;<br>            padding: 10px;<br>        }<br>    </style><br><div class=\"wandb-row\"><div class=\"wandb-col\"><h3>Run history:</h3><br/><table class=\"wandb\"><tr><td>train/epoch</td><td>▁▁▁▁▂▂▂▂▂▂▃▃▃▃▃▃▄▄▄▄▄▄▄▄▄▅▅▅▅▅▆▆▆▆▆▇▇▇▇█</td></tr><tr><td>train/example_ct</td><td>▁▁▂▂▂▂▂▃▃▃▃▃▃▃▃▄▄▄▄▅▅▅▅▅▅▆▆▆▇▇▇▇▇███████</td></tr><tr><td>train/train_loss</td><td>█▇▆▅▅▄▃▃▅▃▂▃▄▂▃▂▃▂▃▂▃▃▂▂▂▃▄▂▂▁▂▂▂▃▁▂▃▂▂▂</td></tr><tr><td>val/val_accuracy</td><td>▁▄▇██</td></tr><tr><td>val/val_loss</td><td>█▄▃▂▁</td></tr></table><br/></div><div class=\"wandb-col\"><h3>Run summary:</h3><br/><table class=\"wandb\"><tr><td>test_accuracy</td><td>0.8</td></tr><tr><td>train/epoch</td><td>5</td></tr><tr><td>train/example_ct</td><td>60000</td></tr><tr><td>train/train_loss</td><td>0.14219</td></tr><tr><td>val/val_accuracy</td><td>0.9405</td></tr><tr><td>val/val_loss</td><td>0.18001</td></tr></table><br/></div></div>"
            ]
          },
          "metadata": {}
        },
        {
          "output_type": "display_data",
          "data": {
            "text/plain": [
              "<IPython.core.display.HTML object>"
            ],
            "text/html": [
              " View run <strong style=\"color:#cdcd00\">crimson-rain-5</strong> at: <a href='https://wandb.ai/ar17-svkm-s-narsee-monjee-institute-of-management-studies/pytorch-intro/runs/yp3uxn2t' target=\"_blank\">https://wandb.ai/ar17-svkm-s-narsee-monjee-institute-of-management-studies/pytorch-intro/runs/yp3uxn2t</a><br> View project at: <a href='https://wandb.ai/ar17-svkm-s-narsee-monjee-institute-of-management-studies/pytorch-intro' target=\"_blank\">https://wandb.ai/ar17-svkm-s-narsee-monjee-institute-of-management-studies/pytorch-intro</a><br>Synced 5 W&B file(s), 1 media file(s), 268 artifact file(s) and 0 other file(s)"
            ]
          },
          "metadata": {}
        },
        {
          "output_type": "display_data",
          "data": {
            "text/plain": [
              "<IPython.core.display.HTML object>"
            ],
            "text/html": [
              "Find logs at: <code>./wandb/run-20250928_110238-yp3uxn2t/logs</code>"
            ]
          },
          "metadata": {}
        },
        {
          "output_type": "display_data",
          "data": {
            "text/plain": [
              "<IPython.core.display.HTML object>"
            ],
            "text/html": []
          },
          "metadata": {}
        },
        {
          "output_type": "display_data",
          "data": {
            "text/plain": [
              "<IPython.core.display.HTML object>"
            ],
            "text/html": [
              "Tracking run with wandb version 0.22.0"
            ]
          },
          "metadata": {}
        },
        {
          "output_type": "display_data",
          "data": {
            "text/plain": [
              "<IPython.core.display.HTML object>"
            ],
            "text/html": [
              "Run data is saved locally in <code>/content/wandb/run-20250928_110315-52c171kj</code>"
            ]
          },
          "metadata": {}
        },
        {
          "output_type": "display_data",
          "data": {
            "text/plain": [
              "<IPython.core.display.HTML object>"
            ],
            "text/html": [
              "Syncing run <strong><a href='https://wandb.ai/ar17-svkm-s-narsee-monjee-institute-of-management-studies/pytorch-intro/runs/52c171kj' target=\"_blank\">twilight-glade-6</a></strong> to <a href='https://wandb.ai/ar17-svkm-s-narsee-monjee-institute-of-management-studies/pytorch-intro' target=\"_blank\">Weights & Biases</a> (<a href='https://wandb.me/developer-guide' target=\"_blank\">docs</a>)<br>"
            ]
          },
          "metadata": {}
        },
        {
          "output_type": "display_data",
          "data": {
            "text/plain": [
              "<IPython.core.display.HTML object>"
            ],
            "text/html": [
              " View project at <a href='https://wandb.ai/ar17-svkm-s-narsee-monjee-institute-of-management-studies/pytorch-intro' target=\"_blank\">https://wandb.ai/ar17-svkm-s-narsee-monjee-institute-of-management-studies/pytorch-intro</a>"
            ]
          },
          "metadata": {}
        },
        {
          "output_type": "display_data",
          "data": {
            "text/plain": [
              "<IPython.core.display.HTML object>"
            ],
            "text/html": [
              " View run at <a href='https://wandb.ai/ar17-svkm-s-narsee-monjee-institute-of-management-studies/pytorch-intro/runs/52c171kj' target=\"_blank\">https://wandb.ai/ar17-svkm-s-narsee-monjee-institute-of-management-studies/pytorch-intro/runs/52c171kj</a>"
            ]
          },
          "metadata": {}
        },
        {
          "output_type": "stream",
          "name": "stdout",
          "text": [
            "Epoch: 1, Train Loss: 0.267, Valid Loss: 0.278999, Accuracy: 0.92\n",
            "Epoch: 2, Train Loss: 0.148, Valid Loss: 0.226428, Accuracy: 0.93\n",
            "Epoch: 3, Train Loss: 0.152, Valid Loss: 0.197520, Accuracy: 0.94\n",
            "Epoch: 4, Train Loss: 0.103, Valid Loss: 0.175389, Accuracy: 0.94\n",
            "Epoch: 5, Train Loss: 0.125, Valid Loss: 0.169479, Accuracy: 0.95\n"
          ]
        },
        {
          "output_type": "display_data",
          "data": {
            "text/plain": [
              "<IPython.core.display.HTML object>"
            ],
            "text/html": []
          },
          "metadata": {}
        },
        {
          "output_type": "display_data",
          "data": {
            "text/plain": [
              "<IPython.core.display.HTML object>"
            ],
            "text/html": [
              "<br>    <style><br>        .wandb-row {<br>            display: flex;<br>            flex-direction: row;<br>            flex-wrap: wrap;<br>            justify-content: flex-start;<br>            width: 100%;<br>        }<br>        .wandb-col {<br>            display: flex;<br>            flex-direction: column;<br>            flex-basis: 100%;<br>            flex: 1;<br>            padding: 10px;<br>        }<br>    </style><br><div class=\"wandb-row\"><div class=\"wandb-col\"><h3>Run history:</h3><br/><table class=\"wandb\"><tr><td>train/epoch</td><td>▁▁▁▁▂▂▃▃▃▃▃▃▃▃▄▄▄▄▄▅▅▅▅▅▅▅▅▆▆▆▇▇▇▇▇▇▇▇██</td></tr><tr><td>train/example_ct</td><td>▁▁▁▁▁▁▂▂▂▂▂▂▂▂▂▃▃▃▃▃▄▄▄▄▄▄▅▆▆▆▇▇▇▇▇▇▇▇██</td></tr><tr><td>train/train_loss</td><td>█▃▃▂▂▂▂▂▂▂▂▁▂▂▂▂▂▁▂▁▂▁▁▁▂▂▁▁▁▁▁▁▁▁▁▁▁▁▁▁</td></tr><tr><td>val/val_accuracy</td><td>▁▃▆██</td></tr><tr><td>val/val_loss</td><td>█▅▃▁▁</td></tr></table><br/></div><div class=\"wandb-col\"><h3>Run summary:</h3><br/><table class=\"wandb\"><tr><td>test_accuracy</td><td>0.8</td></tr><tr><td>train/epoch</td><td>5</td></tr><tr><td>train/example_ct</td><td>60000</td></tr><tr><td>train/train_loss</td><td>0.12494</td></tr><tr><td>val/val_accuracy</td><td>0.946</td></tr><tr><td>val/val_loss</td><td>0.16948</td></tr></table><br/></div></div>"
            ]
          },
          "metadata": {}
        },
        {
          "output_type": "display_data",
          "data": {
            "text/plain": [
              "<IPython.core.display.HTML object>"
            ],
            "text/html": [
              " View run <strong style=\"color:#cdcd00\">twilight-glade-6</strong> at: <a href='https://wandb.ai/ar17-svkm-s-narsee-monjee-institute-of-management-studies/pytorch-intro/runs/52c171kj' target=\"_blank\">https://wandb.ai/ar17-svkm-s-narsee-monjee-institute-of-management-studies/pytorch-intro/runs/52c171kj</a><br> View project at: <a href='https://wandb.ai/ar17-svkm-s-narsee-monjee-institute-of-management-studies/pytorch-intro' target=\"_blank\">https://wandb.ai/ar17-svkm-s-narsee-monjee-institute-of-management-studies/pytorch-intro</a><br>Synced 5 W&B file(s), 1 media file(s), 268 artifact file(s) and 0 other file(s)"
            ]
          },
          "metadata": {}
        },
        {
          "output_type": "display_data",
          "data": {
            "text/plain": [
              "<IPython.core.display.HTML object>"
            ],
            "text/html": [
              "Find logs at: <code>./wandb/run-20250928_110315-52c171kj/logs</code>"
            ]
          },
          "metadata": {}
        },
        {
          "output_type": "display_data",
          "data": {
            "text/plain": [
              "<IPython.core.display.HTML object>"
            ],
            "text/html": []
          },
          "metadata": {}
        },
        {
          "output_type": "display_data",
          "data": {
            "text/plain": [
              "<IPython.core.display.HTML object>"
            ],
            "text/html": [
              "Tracking run with wandb version 0.22.0"
            ]
          },
          "metadata": {}
        },
        {
          "output_type": "display_data",
          "data": {
            "text/plain": [
              "<IPython.core.display.HTML object>"
            ],
            "text/html": [
              "Run data is saved locally in <code>/content/wandb/run-20250928_110339-8dtnbnkq</code>"
            ]
          },
          "metadata": {}
        },
        {
          "output_type": "display_data",
          "data": {
            "text/plain": [
              "<IPython.core.display.HTML object>"
            ],
            "text/html": [
              "Syncing run <strong><a href='https://wandb.ai/ar17-svkm-s-narsee-monjee-institute-of-management-studies/pytorch-intro/runs/8dtnbnkq' target=\"_blank\">charmed-vortex-7</a></strong> to <a href='https://wandb.ai/ar17-svkm-s-narsee-monjee-institute-of-management-studies/pytorch-intro' target=\"_blank\">Weights & Biases</a> (<a href='https://wandb.me/developer-guide' target=\"_blank\">docs</a>)<br>"
            ]
          },
          "metadata": {}
        },
        {
          "output_type": "display_data",
          "data": {
            "text/plain": [
              "<IPython.core.display.HTML object>"
            ],
            "text/html": [
              " View project at <a href='https://wandb.ai/ar17-svkm-s-narsee-monjee-institute-of-management-studies/pytorch-intro' target=\"_blank\">https://wandb.ai/ar17-svkm-s-narsee-monjee-institute-of-management-studies/pytorch-intro</a>"
            ]
          },
          "metadata": {}
        },
        {
          "output_type": "display_data",
          "data": {
            "text/plain": [
              "<IPython.core.display.HTML object>"
            ],
            "text/html": [
              " View run at <a href='https://wandb.ai/ar17-svkm-s-narsee-monjee-institute-of-management-studies/pytorch-intro/runs/8dtnbnkq' target=\"_blank\">https://wandb.ai/ar17-svkm-s-narsee-monjee-institute-of-management-studies/pytorch-intro/runs/8dtnbnkq</a>"
            ]
          },
          "metadata": {}
        },
        {
          "output_type": "stream",
          "name": "stdout",
          "text": [
            "Epoch: 1, Train Loss: 0.272, Valid Loss: 0.273612, Accuracy: 0.92\n",
            "Epoch: 2, Train Loss: 0.106, Valid Loss: 0.232004, Accuracy: 0.93\n",
            "Epoch: 3, Train Loss: 0.138, Valid Loss: 0.190004, Accuracy: 0.94\n",
            "Epoch: 4, Train Loss: 0.148, Valid Loss: 0.181228, Accuracy: 0.94\n",
            "Epoch: 5, Train Loss: 0.084, Valid Loss: 0.174360, Accuracy: 0.95\n"
          ]
        },
        {
          "output_type": "display_data",
          "data": {
            "text/plain": [
              "<IPython.core.display.HTML object>"
            ],
            "text/html": []
          },
          "metadata": {}
        },
        {
          "output_type": "display_data",
          "data": {
            "text/plain": [
              "<IPython.core.display.HTML object>"
            ],
            "text/html": [
              "<br>    <style><br>        .wandb-row {<br>            display: flex;<br>            flex-direction: row;<br>            flex-wrap: wrap;<br>            justify-content: flex-start;<br>            width: 100%;<br>        }<br>        .wandb-col {<br>            display: flex;<br>            flex-direction: column;<br>            flex-basis: 100%;<br>            flex: 1;<br>            padding: 10px;<br>        }<br>    </style><br><div class=\"wandb-row\"><div class=\"wandb-col\"><h3>Run history:</h3><br/><table class=\"wandb\"><tr><td>train/epoch</td><td>▁▁▁▁▁▂▂▂▂▃▃▃▃▃▃▃▄▄▅▅▅▆▆▆▆▆▆▇▇▇▇▇▇▇██████</td></tr><tr><td>train/example_ct</td><td>▁▁▁▁▁▁▁▂▂▂▂▂▂▃▃▃▃▃▄▄▄▅▅▅▅▅▅▆▆▆▆▆▇▇▇▇▇███</td></tr><tr><td>train/train_loss</td><td>█▃▃▃▂▂▂▂▂▂▂▂▂▂▂▁▁▁▁▁▁▁▁▂▁▂▂▁▁▁▁▁▁▁▁▁▁▁▂▁</td></tr><tr><td>val/val_accuracy</td><td>▁▁▆▇█</td></tr><tr><td>val/val_loss</td><td>█▅▂▁▁</td></tr></table><br/></div><div class=\"wandb-col\"><h3>Run summary:</h3><br/><table class=\"wandb\"><tr><td>test_accuracy</td><td>0.8</td></tr><tr><td>train/epoch</td><td>5</td></tr><tr><td>train/example_ct</td><td>60000</td></tr><tr><td>train/train_loss</td><td>0.08379</td></tr><tr><td>val/val_accuracy</td><td>0.9465</td></tr><tr><td>val/val_loss</td><td>0.17436</td></tr></table><br/></div></div>"
            ]
          },
          "metadata": {}
        },
        {
          "output_type": "display_data",
          "data": {
            "text/plain": [
              "<IPython.core.display.HTML object>"
            ],
            "text/html": [
              " View run <strong style=\"color:#cdcd00\">charmed-vortex-7</strong> at: <a href='https://wandb.ai/ar17-svkm-s-narsee-monjee-institute-of-management-studies/pytorch-intro/runs/8dtnbnkq' target=\"_blank\">https://wandb.ai/ar17-svkm-s-narsee-monjee-institute-of-management-studies/pytorch-intro/runs/8dtnbnkq</a><br> View project at: <a href='https://wandb.ai/ar17-svkm-s-narsee-monjee-institute-of-management-studies/pytorch-intro' target=\"_blank\">https://wandb.ai/ar17-svkm-s-narsee-monjee-institute-of-management-studies/pytorch-intro</a><br>Synced 5 W&B file(s), 1 media file(s), 268 artifact file(s) and 0 other file(s)"
            ]
          },
          "metadata": {}
        },
        {
          "output_type": "display_data",
          "data": {
            "text/plain": [
              "<IPython.core.display.HTML object>"
            ],
            "text/html": [
              "Find logs at: <code>./wandb/run-20250928_110339-8dtnbnkq/logs</code>"
            ]
          },
          "metadata": {}
        }
      ],
      "source": [
        "# Launch 3 experiments, trying different dropout rates\n",
        "for _ in range(3):\n",
        "    # initialise a wandb run\n",
        "    wandb.init(\n",
        "        project=\"pytorch-intro\",\n",
        "        config={\n",
        "            \"epochs\": 5,\n",
        "            \"batch_size\": 128,\n",
        "            \"lr\": 1e-3,\n",
        "            \"dropout\": random.uniform(0.01, 0.80),\n",
        "            })\n",
        "\n",
        "    # Copy your config\n",
        "    config = wandb.config\n",
        "\n",
        "    # Get the data\n",
        "    train_dl = get_dataloader(is_train=True, batch_size=config.batch_size)\n",
        "    valid_dl = get_dataloader(is_train=False, batch_size=2*config.batch_size)\n",
        "    n_steps_per_epoch = math.ceil(len(train_dl.dataset) / config.batch_size)\n",
        "\n",
        "    # A simple MLP model\n",
        "    model = get_model(config.dropout)\n",
        "\n",
        "    # Make the loss and optimizer\n",
        "    loss_func = nn.CrossEntropyLoss()\n",
        "    optimizer = torch.optim.Adam(model.parameters(), lr=config.lr)\n",
        "\n",
        "   # Training\n",
        "    example_ct = 0\n",
        "    step_ct = 0\n",
        "    for epoch in range(config.epochs):\n",
        "        model.train()\n",
        "        for step, (images, labels) in enumerate(train_dl):\n",
        "            images, labels = images.to(device), labels.to(device)\n",
        "\n",
        "            outputs = model(images)\n",
        "            train_loss = loss_func(outputs, labels)\n",
        "            optimizer.zero_grad()\n",
        "            train_loss.backward()\n",
        "            optimizer.step()\n",
        "\n",
        "            example_ct += len(images)\n",
        "            metrics = {\"train/train_loss\": train_loss,\n",
        "                       \"train/epoch\": (step + 1 + (n_steps_per_epoch * epoch)) / n_steps_per_epoch,\n",
        "                       \"train/example_ct\": example_ct}\n",
        "\n",
        "            if step + 1 < n_steps_per_epoch:\n",
        "                # Log train metrics to wandb\n",
        "                wandb.log(metrics)\n",
        "\n",
        "            step_ct += 1\n",
        "\n",
        "        val_loss, accuracy = validate_model(model, valid_dl, loss_func, log_images=(epoch==(config.epochs-1)))\n",
        "\n",
        "        # Log train and validation metrics to wandb\n",
        "        val_metrics = {\"val/val_loss\": val_loss,\n",
        "                       \"val/val_accuracy\": accuracy}\n",
        "        wandb.log({**metrics, **val_metrics})\n",
        "\n",
        "        # Save the model checkpoint to wandb\n",
        "        torch.save(model, \"my_model.pt\")\n",
        "        wandb.log_model(\"./my_model.pt\", \"my_mnist_model\", aliases=[f\"epoch-{epoch+1}_dropout-{round(wandb.config.dropout, 4)}\"])\n",
        "\n",
        "        print(f\"Epoch: {epoch+1}, Train Loss: {train_loss:.3f}, Valid Loss: {val_loss:3f}, Accuracy: {accuracy:.2f}\")\n",
        "\n",
        "    # If you had a test set, this is how you could log it as a Summary metric\n",
        "    wandb.summary['test_accuracy'] = 0.8\n",
        "\n",
        "    # Close your wandb run\n",
        "    wandb.finish()"
      ]
    },
    {
      "cell_type": "markdown",
      "metadata": {
        "id": "NfTTpywz-bRK"
      },
      "source": [
        "You have now trained your first model using W&B. Click on one of the links above to see your metrics and see your saved model checkpoints in the Artifacts tab in the W&B App UI"
      ]
    },
    {
      "cell_type": "markdown",
      "metadata": {
        "id": "b0X1mqeJ-bRK"
      },
      "source": [
        "## (Optional) Set up a W&B Alert\n",
        "\n",
        "Create a [W&B Alerts](https://docs.wandb.ai/guides/track/alert) to send alerts to your Slack or email from your Python code.\n",
        "\n",
        "There are 2 steps to follow the first time you'd like to send a Slack or email alert, triggered from your code:\n",
        "\n",
        "1) Turn on Alerts in your W&B [User Settings](https://wandb.ai/settings)\n",
        "2) Add `wandb.alert()` to your code. For example:\n",
        "\n",
        "```python\n",
        "wandb.alert(\n",
        "    title=\"Low accuracy\",\n",
        "    text=f\"Accuracy is below the acceptable threshold\"\n",
        ")\n",
        "```\n",
        "\n",
        "The following cell shows a minimal example below to see how to use `wandb.alert`"
      ]
    },
    {
      "cell_type": "code",
      "execution_count": 8,
      "metadata": {
        "colab": {
          "base_uri": "https://localhost:8080/",
          "height": 855
        },
        "id": "kUAMGErU-bRL",
        "outputId": "07088d1d-49f8-4bb2-93f6-e9e1610a8cd0"
      },
      "outputs": [
        {
          "output_type": "display_data",
          "data": {
            "text/plain": [
              "<IPython.core.display.HTML object>"
            ],
            "text/html": []
          },
          "metadata": {}
        },
        {
          "output_type": "display_data",
          "data": {
            "text/plain": [
              "<IPython.core.display.HTML object>"
            ],
            "text/html": [
              "Tracking run with wandb version 0.22.0"
            ]
          },
          "metadata": {}
        },
        {
          "output_type": "display_data",
          "data": {
            "text/plain": [
              "<IPython.core.display.HTML object>"
            ],
            "text/html": [
              "Run data is saved locally in <code>/content/wandb/run-20250928_110410-uz3rb4jg</code>"
            ]
          },
          "metadata": {}
        },
        {
          "output_type": "display_data",
          "data": {
            "text/plain": [
              "<IPython.core.display.HTML object>"
            ],
            "text/html": [
              "Syncing run <strong><a href='https://wandb.ai/ar17-svkm-s-narsee-monjee-institute-of-management-studies/pytorch-intro/runs/uz3rb4jg' target=\"_blank\">eternal-breeze-8</a></strong> to <a href='https://wandb.ai/ar17-svkm-s-narsee-monjee-institute-of-management-studies/pytorch-intro' target=\"_blank\">Weights & Biases</a> (<a href='https://wandb.me/developer-guide' target=\"_blank\">docs</a>)<br>"
            ]
          },
          "metadata": {}
        },
        {
          "output_type": "display_data",
          "data": {
            "text/plain": [
              "<IPython.core.display.HTML object>"
            ],
            "text/html": [
              " View project at <a href='https://wandb.ai/ar17-svkm-s-narsee-monjee-institute-of-management-studies/pytorch-intro' target=\"_blank\">https://wandb.ai/ar17-svkm-s-narsee-monjee-institute-of-management-studies/pytorch-intro</a>"
            ]
          },
          "metadata": {}
        },
        {
          "output_type": "display_data",
          "data": {
            "text/plain": [
              "<IPython.core.display.HTML object>"
            ],
            "text/html": [
              " View run at <a href='https://wandb.ai/ar17-svkm-s-narsee-monjee-institute-of-management-studies/pytorch-intro/runs/uz3rb4jg' target=\"_blank\">https://wandb.ai/ar17-svkm-s-narsee-monjee-institute-of-management-studies/pytorch-intro/runs/uz3rb4jg</a>"
            ]
          },
          "metadata": {}
        },
        {
          "output_type": "stream",
          "name": "stdout",
          "text": [
            "Accuracy is: 1.058, 0.3\n",
            "Accuracy is: 0.422, 0.3\n",
            "Accuracy is: 1.008, 0.3\n",
            "Accuracy is: 0.624, 0.3\n",
            "Accuracy is: 1.599, 0.3\n",
            "Accuracy is: 0.765, 0.3\n",
            "Accuracy is: 0.743, 0.3\n",
            "Accuracy is: 0.598, 0.3\n",
            "Accuracy is: 0.736, 0.3\n",
            "Accuracy is: 1.147, 0.3\n",
            "Accuracy is: 0.531, 0.3\n",
            "Accuracy is: 1.283, 0.3\n",
            "Accuracy is: 1.295, 0.3\n",
            "Accuracy is: 0.731, 0.3\n",
            "Accuracy is: 1.48, 0.3\n",
            "Accuracy is: 0.974, 0.3\n",
            "Accuracy is: 0.801, 0.3\n",
            "Accuracy is: 1.195, 0.3\n",
            "Accuracy is: 0.592, 0.3\n",
            "Accuracy is: 1.705, 0.3\n",
            "Accuracy is: 0.195, 0.3\n",
            "Alert triggered\n"
          ]
        },
        {
          "output_type": "display_data",
          "data": {
            "text/plain": [
              "<IPython.core.display.HTML object>"
            ],
            "text/html": []
          },
          "metadata": {}
        },
        {
          "output_type": "display_data",
          "data": {
            "text/plain": [
              "<IPython.core.display.HTML object>"
            ],
            "text/html": [
              "<br>    <style><br>        .wandb-row {<br>            display: flex;<br>            flex-direction: row;<br>            flex-wrap: wrap;<br>            justify-content: flex-start;<br>            width: 100%;<br>        }<br>        .wandb-col {<br>            display: flex;<br>            flex-direction: column;<br>            flex-basis: 100%;<br>            flex: 1;<br>            padding: 10px;<br>        }<br>    </style><br><div class=\"wandb-row\"><div class=\"wandb-col\"><h3>Run history:</h3><br/><table class=\"wandb\"><tr><td>Accuracy</td><td>▅▂▅▃█▄▄▃▄▅▃▆▆▃▇▅▄▆▃█▁</td></tr></table><br/></div><div class=\"wandb-col\"><h3>Run summary:</h3><br/><table class=\"wandb\"><tr><td>Accuracy</td><td>0.195</td></tr></table><br/></div></div>"
            ]
          },
          "metadata": {}
        },
        {
          "output_type": "display_data",
          "data": {
            "text/plain": [
              "<IPython.core.display.HTML object>"
            ],
            "text/html": [
              " View run <strong style=\"color:#cdcd00\">eternal-breeze-8</strong> at: <a href='https://wandb.ai/ar17-svkm-s-narsee-monjee-institute-of-management-studies/pytorch-intro/runs/uz3rb4jg' target=\"_blank\">https://wandb.ai/ar17-svkm-s-narsee-monjee-institute-of-management-studies/pytorch-intro/runs/uz3rb4jg</a><br> View project at: <a href='https://wandb.ai/ar17-svkm-s-narsee-monjee-institute-of-management-studies/pytorch-intro' target=\"_blank\">https://wandb.ai/ar17-svkm-s-narsee-monjee-institute-of-management-studies/pytorch-intro</a><br>Synced 5 W&B file(s), 0 media file(s), 0 artifact file(s) and 0 other file(s)"
            ]
          },
          "metadata": {}
        },
        {
          "output_type": "display_data",
          "data": {
            "text/plain": [
              "<IPython.core.display.HTML object>"
            ],
            "text/html": [
              "Find logs at: <code>./wandb/run-20250928_110410-uz3rb4jg/logs</code>"
            ]
          },
          "metadata": {}
        }
      ],
      "source": [
        "# Start a wandb run\n",
        "wandb.init(project=\"pytorch-intro\")\n",
        "\n",
        "# Simulating a model training loop\n",
        "acc_threshold = 0.3\n",
        "for training_step in range(1000):\n",
        "\n",
        "    # Generate a random number for accuracy\n",
        "    accuracy = round(random.random() + random.random(), 3)\n",
        "    print(f'Accuracy is: {accuracy}, {acc_threshold}')\n",
        "\n",
        "    # Log accuracy to wandb\n",
        "    wandb.log({\"Accuracy\": accuracy})\n",
        "\n",
        "    # If the accuracy is below the threshold, fire a W&B Alert and stop the run\n",
        "    if accuracy <= acc_threshold:\n",
        "        # Send the wandb Alert\n",
        "        wandb.alert(\n",
        "            title='Low Accuracy',\n",
        "            text=f'Accuracy {accuracy} at step {training_step} is below the acceptable theshold, {acc_threshold}',\n",
        "        )\n",
        "        print('Alert triggered')\n",
        "        break\n",
        "\n",
        "# Mark the run as finished (useful in Jupyter notebooks)\n",
        "wandb.finish()"
      ]
    },
    {
      "cell_type": "markdown",
      "metadata": {
        "id": "WxI96ABt-bRL"
      },
      "source": [
        "You can find the full docs for [W&B Alerts here](https://docs.wandb.ai/guides/track/alert).\n",
        "\n",
        "## Next steps\n",
        "The next tutorial you will learn how to do hyperparameter optimization using W&B Sweeps:\n",
        "[Hyperparameters sweeps using PyTorch](https://colab.research.google.com/github/wandb/examples/blob/master/colabs/pytorch/Organizing_Hyperparameter_Sweeps_in_PyTorch_with_W%26B.ipynb)"
      ]
    },
    {
      "cell_type": "code",
      "source": [
        "import tensorflow as tf\n",
        "from tensorflow.keras.datasets import cifar10\n",
        "from tensorflow.keras.models import Sequential\n",
        "from tensorflow.keras.layers import Conv2D, MaxPooling2D, Flatten, Dense, Dropout\n",
        "from tensorflow.keras.utils import to_categorical\n",
        "import wandb\n",
        "\n",
        "sweep_config = {\n",
        "    'method': 'bayes',\n",
        "    'metric': {\n",
        "      'name': 'val_accuracy',\n",
        "      'goal': 'maximize'\n",
        "    },\n",
        "    'parameters': {\n",
        "        'epochs': {\n",
        "            'values': [5, 10, 15]\n",
        "        },\n",
        "        'optimizer': {\n",
        "            'values': ['adam', 'sgd', 'rmsprop']\n",
        "        },\n",
        "        'num_conv_layers': {\n",
        "            'values': [1, 2, 3]\n",
        "        },\n",
        "        'dropout': {\n",
        "            'distribution': 'uniform',\n",
        "            'min': 0.2,\n",
        "            'max': 0.5\n",
        "        },\n",
        "        'learning_rate': {\n",
        "            'values': [0.01, 0.001, 0.0001]\n",
        "        }\n",
        "    }\n",
        "}\n",
        "\n",
        "sweep_id = wandb.sweep(sweep_config, project=\"cifar10-manual-sweep\")\n",
        "\n",
        "class CustomWandbLogger(tf.keras.callbacks.Callback):\n",
        "    def on_epoch_end(self, epoch, logs=None):\n",
        "        wandb.log(logs)\n",
        "\n",
        "def train(config=None):\n",
        "    (x_train, y_train), (x_test, y_test) = cifar10.load_data()\n",
        "    x_train = x_train.astype('float32') / 255.0\n",
        "    x_test = x_test.astype('float32') / 255.0\n",
        "    y_train = to_categorical(y_train, 10)\n",
        "    y_test = to_categorical(y_test, 10)\n",
        "\n",
        "    with wandb.init(config=config):\n",
        "        config = wandb.config\n",
        "\n",
        "        model = Sequential()\n",
        "        model.add(Conv2D(32, (3, 3), activation='relu', input_shape=(32, 32, 3)))\n",
        "        model.add(MaxPooling2D(pool_size=(2, 2)))\n",
        "        for _ in range(config.num_conv_layers):\n",
        "            model.add(Conv2D(64, (3, 3), activation='relu'))\n",
        "            model.add(MaxPooling2D(pool_size=(2, 2)))\n",
        "        model.add(Flatten())\n",
        "        model.add(Dense(128, activation='relu'))\n",
        "        model.add(Dropout(config.dropout))\n",
        "        model.add(Dense(10, activation='softmax'))\n",
        "\n",
        "        model.compile(optimizer=config.optimizer,\n",
        "                      loss='categorical_crossentropy',\n",
        "                      metrics=['accuracy'])\n",
        "\n",
        "        model.fit(x_train, y_train,\n",
        "                  epochs=config.epochs,\n",
        "                  validation_data=(x_test, y_test),\n",
        "                  callbacks=[CustomWandbLogger()])\n",
        "\n",
        "wandb.agent(sweep_id, function=train, count=10)"
      ],
      "metadata": {
        "colab": {
          "base_uri": "https://localhost:8080/",
          "height": 10590
        },
        "id": "cOa0-dRzAG5h",
        "outputId": "349aeeca-91be-488b-c7bf-9441de7338f7"
      },
      "execution_count": 9,
      "outputs": [
        {
          "output_type": "stream",
          "name": "stdout",
          "text": [
            "Create sweep with ID: 05ln39pq\n",
            "Sweep URL: https://wandb.ai/ar17-svkm-s-narsee-monjee-institute-of-management-studies/cifar10-manual-sweep/sweeps/05ln39pq\n"
          ]
        },
        {
          "output_type": "stream",
          "name": "stderr",
          "text": [
            "\u001b[34m\u001b[1mwandb\u001b[0m: Agent Starting Run: qmeommlz with config:\n",
            "\u001b[34m\u001b[1mwandb\u001b[0m: \tdropout: 0.22496050175912605\n",
            "\u001b[34m\u001b[1mwandb\u001b[0m: \tepochs: 15\n",
            "\u001b[34m\u001b[1mwandb\u001b[0m: \tlearning_rate: 0.0001\n",
            "\u001b[34m\u001b[1mwandb\u001b[0m: \tnum_conv_layers: 1\n",
            "\u001b[34m\u001b[1mwandb\u001b[0m: \toptimizer: adam\n"
          ]
        },
        {
          "output_type": "stream",
          "name": "stdout",
          "text": [
            "Downloading data from https://www.cs.toronto.edu/~kriz/cifar-10-python.tar.gz\n",
            "\u001b[1m170498071/170498071\u001b[0m \u001b[32m━━━━━━━━━━━━━━━━━━━━\u001b[0m\u001b[37m\u001b[0m \u001b[1m14s\u001b[0m 0us/step\n"
          ]
        },
        {
          "output_type": "display_data",
          "data": {
            "text/plain": [
              "<IPython.core.display.HTML object>"
            ],
            "text/html": []
          },
          "metadata": {}
        },
        {
          "output_type": "display_data",
          "data": {
            "text/plain": [
              "<IPython.core.display.HTML object>"
            ],
            "text/html": [
              "Tracking run with wandb version 0.22.0"
            ]
          },
          "metadata": {}
        },
        {
          "output_type": "display_data",
          "data": {
            "text/plain": [
              "<IPython.core.display.HTML object>"
            ],
            "text/html": [
              "Run data is saved locally in <code>/content/wandb/run-20250928_111029-qmeommlz</code>"
            ]
          },
          "metadata": {}
        },
        {
          "output_type": "display_data",
          "data": {
            "text/plain": [
              "<IPython.core.display.HTML object>"
            ],
            "text/html": [
              "Syncing run <strong><a href='https://wandb.ai/ar17-svkm-s-narsee-monjee-institute-of-management-studies/cifar10-manual-sweep/runs/qmeommlz' target=\"_blank\">fine-sweep-1</a></strong> to <a href='https://wandb.ai/ar17-svkm-s-narsee-monjee-institute-of-management-studies/cifar10-manual-sweep' target=\"_blank\">Weights & Biases</a> (<a href='https://wandb.me/developer-guide' target=\"_blank\">docs</a>)<br>Sweep page: <a href='https://wandb.ai/ar17-svkm-s-narsee-monjee-institute-of-management-studies/cifar10-manual-sweep/sweeps/05ln39pq' target=\"_blank\">https://wandb.ai/ar17-svkm-s-narsee-monjee-institute-of-management-studies/cifar10-manual-sweep/sweeps/05ln39pq</a>"
            ]
          },
          "metadata": {}
        },
        {
          "output_type": "display_data",
          "data": {
            "text/plain": [
              "<IPython.core.display.HTML object>"
            ],
            "text/html": [
              " View project at <a href='https://wandb.ai/ar17-svkm-s-narsee-monjee-institute-of-management-studies/cifar10-manual-sweep' target=\"_blank\">https://wandb.ai/ar17-svkm-s-narsee-monjee-institute-of-management-studies/cifar10-manual-sweep</a>"
            ]
          },
          "metadata": {}
        },
        {
          "output_type": "display_data",
          "data": {
            "text/plain": [
              "<IPython.core.display.HTML object>"
            ],
            "text/html": [
              " View sweep at <a href='https://wandb.ai/ar17-svkm-s-narsee-monjee-institute-of-management-studies/cifar10-manual-sweep/sweeps/05ln39pq' target=\"_blank\">https://wandb.ai/ar17-svkm-s-narsee-monjee-institute-of-management-studies/cifar10-manual-sweep/sweeps/05ln39pq</a>"
            ]
          },
          "metadata": {}
        },
        {
          "output_type": "display_data",
          "data": {
            "text/plain": [
              "<IPython.core.display.HTML object>"
            ],
            "text/html": [
              " View run at <a href='https://wandb.ai/ar17-svkm-s-narsee-monjee-institute-of-management-studies/cifar10-manual-sweep/runs/qmeommlz' target=\"_blank\">https://wandb.ai/ar17-svkm-s-narsee-monjee-institute-of-management-studies/cifar10-manual-sweep/runs/qmeommlz</a>"
            ]
          },
          "metadata": {}
        },
        {
          "output_type": "stream",
          "name": "stderr",
          "text": [
            "/usr/local/lib/python3.12/dist-packages/keras/src/layers/convolutional/base_conv.py:113: UserWarning: Do not pass an `input_shape`/`input_dim` argument to a layer. When using Sequential models, prefer using an `Input(shape)` object as the first layer in the model instead.\n",
            "  super().__init__(activity_regularizer=activity_regularizer, **kwargs)\n"
          ]
        },
        {
          "output_type": "stream",
          "name": "stdout",
          "text": [
            "Epoch 1/15\n",
            "\u001b[1m1563/1563\u001b[0m \u001b[32m━━━━━━━━━━━━━━━━━━━━\u001b[0m\u001b[37m\u001b[0m \u001b[1m15s\u001b[0m 6ms/step - accuracy: 0.3848 - loss: 1.6773 - val_accuracy: 0.5933 - val_loss: 1.1425\n",
            "Epoch 2/15\n",
            "\u001b[1m1563/1563\u001b[0m \u001b[32m━━━━━━━━━━━━━━━━━━━━\u001b[0m\u001b[37m\u001b[0m \u001b[1m7s\u001b[0m 4ms/step - accuracy: 0.5917 - loss: 1.1483 - val_accuracy: 0.6073 - val_loss: 1.1430\n",
            "Epoch 3/15\n",
            "\u001b[1m1563/1563\u001b[0m \u001b[32m━━━━━━━━━━━━━━━━━━━━\u001b[0m\u001b[37m\u001b[0m \u001b[1m6s\u001b[0m 4ms/step - accuracy: 0.6547 - loss: 0.9772 - val_accuracy: 0.6873 - val_loss: 0.9146\n",
            "Epoch 4/15\n",
            "\u001b[1m1563/1563\u001b[0m \u001b[32m━━━━━━━━━━━━━━━━━━━━\u001b[0m\u001b[37m\u001b[0m \u001b[1m7s\u001b[0m 4ms/step - accuracy: 0.6973 - loss: 0.8614 - val_accuracy: 0.6848 - val_loss: 0.9252\n",
            "Epoch 5/15\n",
            "\u001b[1m1563/1563\u001b[0m \u001b[32m━━━━━━━━━━━━━━━━━━━━\u001b[0m\u001b[37m\u001b[0m \u001b[1m6s\u001b[0m 4ms/step - accuracy: 0.7214 - loss: 0.7870 - val_accuracy: 0.6988 - val_loss: 0.8676\n",
            "Epoch 6/15\n",
            "\u001b[1m1563/1563\u001b[0m \u001b[32m━━━━━━━━━━━━━━━━━━━━\u001b[0m\u001b[37m\u001b[0m \u001b[1m7s\u001b[0m 4ms/step - accuracy: 0.7508 - loss: 0.7120 - val_accuracy: 0.7060 - val_loss: 0.8632\n",
            "Epoch 7/15\n",
            "\u001b[1m1563/1563\u001b[0m \u001b[32m━━━━━━━━━━━━━━━━━━━━\u001b[0m\u001b[37m\u001b[0m \u001b[1m6s\u001b[0m 4ms/step - accuracy: 0.7689 - loss: 0.6535 - val_accuracy: 0.7110 - val_loss: 0.8453\n",
            "Epoch 8/15\n",
            "\u001b[1m1563/1563\u001b[0m \u001b[32m━━━━━━━━━━━━━━━━━━━━\u001b[0m\u001b[37m\u001b[0m \u001b[1m7s\u001b[0m 4ms/step - accuracy: 0.7837 - loss: 0.6105 - val_accuracy: 0.7011 - val_loss: 0.8835\n",
            "Epoch 9/15\n",
            "\u001b[1m1563/1563\u001b[0m \u001b[32m━━━━━━━━━━━━━━━━━━━━\u001b[0m\u001b[37m\u001b[0m \u001b[1m6s\u001b[0m 4ms/step - accuracy: 0.8021 - loss: 0.5587 - val_accuracy: 0.7166 - val_loss: 0.8660\n",
            "Epoch 10/15\n",
            "\u001b[1m1563/1563\u001b[0m \u001b[32m━━━━━━━━━━━━━━━━━━━━\u001b[0m\u001b[37m\u001b[0m \u001b[1m7s\u001b[0m 4ms/step - accuracy: 0.8154 - loss: 0.5221 - val_accuracy: 0.7210 - val_loss: 0.8573\n",
            "Epoch 11/15\n",
            "\u001b[1m1563/1563\u001b[0m \u001b[32m━━━━━━━━━━━━━━━━━━━━\u001b[0m\u001b[37m\u001b[0m \u001b[1m6s\u001b[0m 4ms/step - accuracy: 0.8277 - loss: 0.4779 - val_accuracy: 0.7149 - val_loss: 0.9084\n",
            "Epoch 12/15\n",
            "\u001b[1m1563/1563\u001b[0m \u001b[32m━━━━━━━━━━━━━━━━━━━━\u001b[0m\u001b[37m\u001b[0m \u001b[1m7s\u001b[0m 4ms/step - accuracy: 0.8418 - loss: 0.4423 - val_accuracy: 0.7181 - val_loss: 0.9287\n",
            "Epoch 13/15\n",
            "\u001b[1m1563/1563\u001b[0m \u001b[32m━━━━━━━━━━━━━━━━━━━━\u001b[0m\u001b[37m\u001b[0m \u001b[1m6s\u001b[0m 4ms/step - accuracy: 0.8545 - loss: 0.4096 - val_accuracy: 0.7179 - val_loss: 0.9556\n",
            "Epoch 14/15\n",
            "\u001b[1m1563/1563\u001b[0m \u001b[32m━━━━━━━━━━━━━━━━━━━━\u001b[0m\u001b[37m\u001b[0m \u001b[1m7s\u001b[0m 4ms/step - accuracy: 0.8624 - loss: 0.3829 - val_accuracy: 0.7116 - val_loss: 1.0608\n",
            "Epoch 15/15\n",
            "\u001b[1m1563/1563\u001b[0m \u001b[32m━━━━━━━━━━━━━━━━━━━━\u001b[0m\u001b[37m\u001b[0m \u001b[1m6s\u001b[0m 4ms/step - accuracy: 0.8670 - loss: 0.3635 - val_accuracy: 0.7132 - val_loss: 1.0257\n"
          ]
        },
        {
          "output_type": "display_data",
          "data": {
            "text/plain": [
              "<IPython.core.display.HTML object>"
            ],
            "text/html": []
          },
          "metadata": {}
        },
        {
          "output_type": "display_data",
          "data": {
            "text/plain": [
              "<IPython.core.display.HTML object>"
            ],
            "text/html": [
              "<br>    <style><br>        .wandb-row {<br>            display: flex;<br>            flex-direction: row;<br>            flex-wrap: wrap;<br>            justify-content: flex-start;<br>            width: 100%;<br>        }<br>        .wandb-col {<br>            display: flex;<br>            flex-direction: column;<br>            flex-basis: 100%;<br>            flex: 1;<br>            padding: 10px;<br>        }<br>    </style><br><div class=\"wandb-row\"><div class=\"wandb-col\"><h3>Run history:</h3><br/><table class=\"wandb\"><tr><td>accuracy</td><td>▁▃▄▅▆▆▆▆▇▇▇████</td></tr><tr><td>loss</td><td>█▆▅▄▄▃▃▃▂▂▂▂▁▁▁</td></tr><tr><td>val_accuracy</td><td>▁▂▆▆▇▇▇▇█████▇█</td></tr><tr><td>val_loss</td><td>██▃▃▂▁▁▂▁▁▂▃▄▆▅</td></tr></table><br/></div><div class=\"wandb-col\"><h3>Run summary:</h3><br/><table class=\"wandb\"><tr><td>accuracy</td><td>0.86082</td></tr><tr><td>loss</td><td>0.38024</td></tr><tr><td>val_accuracy</td><td>0.7132</td></tr><tr><td>val_loss</td><td>1.02575</td></tr></table><br/></div></div>"
            ]
          },
          "metadata": {}
        },
        {
          "output_type": "display_data",
          "data": {
            "text/plain": [
              "<IPython.core.display.HTML object>"
            ],
            "text/html": [
              " View run <strong style=\"color:#cdcd00\">fine-sweep-1</strong> at: <a href='https://wandb.ai/ar17-svkm-s-narsee-monjee-institute-of-management-studies/cifar10-manual-sweep/runs/qmeommlz' target=\"_blank\">https://wandb.ai/ar17-svkm-s-narsee-monjee-institute-of-management-studies/cifar10-manual-sweep/runs/qmeommlz</a><br> View project at: <a href='https://wandb.ai/ar17-svkm-s-narsee-monjee-institute-of-management-studies/cifar10-manual-sweep' target=\"_blank\">https://wandb.ai/ar17-svkm-s-narsee-monjee-institute-of-management-studies/cifar10-manual-sweep</a><br>Synced 5 W&B file(s), 0 media file(s), 0 artifact file(s) and 0 other file(s)"
            ]
          },
          "metadata": {}
        },
        {
          "output_type": "display_data",
          "data": {
            "text/plain": [
              "<IPython.core.display.HTML object>"
            ],
            "text/html": [
              "Find logs at: <code>./wandb/run-20250928_111029-qmeommlz/logs</code>"
            ]
          },
          "metadata": {}
        },
        {
          "output_type": "stream",
          "name": "stderr",
          "text": [
            "\u001b[34m\u001b[1mwandb\u001b[0m: Agent Starting Run: 46p4bqsh with config:\n",
            "\u001b[34m\u001b[1mwandb\u001b[0m: \tdropout: 0.2039785819713351\n",
            "\u001b[34m\u001b[1mwandb\u001b[0m: \tepochs: 15\n",
            "\u001b[34m\u001b[1mwandb\u001b[0m: \tlearning_rate: 0.001\n",
            "\u001b[34m\u001b[1mwandb\u001b[0m: \tnum_conv_layers: 2\n",
            "\u001b[34m\u001b[1mwandb\u001b[0m: \toptimizer: adam\n"
          ]
        },
        {
          "output_type": "display_data",
          "data": {
            "text/plain": [
              "<IPython.core.display.HTML object>"
            ],
            "text/html": []
          },
          "metadata": {}
        },
        {
          "output_type": "display_data",
          "data": {
            "text/plain": [
              "<IPython.core.display.HTML object>"
            ],
            "text/html": [
              "Tracking run with wandb version 0.22.0"
            ]
          },
          "metadata": {}
        },
        {
          "output_type": "display_data",
          "data": {
            "text/plain": [
              "<IPython.core.display.HTML object>"
            ],
            "text/html": [
              "Run data is saved locally in <code>/content/wandb/run-20250928_111225-46p4bqsh</code>"
            ]
          },
          "metadata": {}
        },
        {
          "output_type": "display_data",
          "data": {
            "text/plain": [
              "<IPython.core.display.HTML object>"
            ],
            "text/html": [
              "Syncing run <strong><a href='https://wandb.ai/ar17-svkm-s-narsee-monjee-institute-of-management-studies/cifar10-manual-sweep/runs/46p4bqsh' target=\"_blank\">robust-sweep-2</a></strong> to <a href='https://wandb.ai/ar17-svkm-s-narsee-monjee-institute-of-management-studies/cifar10-manual-sweep' target=\"_blank\">Weights & Biases</a> (<a href='https://wandb.me/developer-guide' target=\"_blank\">docs</a>)<br>Sweep page: <a href='https://wandb.ai/ar17-svkm-s-narsee-monjee-institute-of-management-studies/cifar10-manual-sweep/sweeps/05ln39pq' target=\"_blank\">https://wandb.ai/ar17-svkm-s-narsee-monjee-institute-of-management-studies/cifar10-manual-sweep/sweeps/05ln39pq</a>"
            ]
          },
          "metadata": {}
        },
        {
          "output_type": "display_data",
          "data": {
            "text/plain": [
              "<IPython.core.display.HTML object>"
            ],
            "text/html": [
              " View project at <a href='https://wandb.ai/ar17-svkm-s-narsee-monjee-institute-of-management-studies/cifar10-manual-sweep' target=\"_blank\">https://wandb.ai/ar17-svkm-s-narsee-monjee-institute-of-management-studies/cifar10-manual-sweep</a>"
            ]
          },
          "metadata": {}
        },
        {
          "output_type": "display_data",
          "data": {
            "text/plain": [
              "<IPython.core.display.HTML object>"
            ],
            "text/html": [
              " View sweep at <a href='https://wandb.ai/ar17-svkm-s-narsee-monjee-institute-of-management-studies/cifar10-manual-sweep/sweeps/05ln39pq' target=\"_blank\">https://wandb.ai/ar17-svkm-s-narsee-monjee-institute-of-management-studies/cifar10-manual-sweep/sweeps/05ln39pq</a>"
            ]
          },
          "metadata": {}
        },
        {
          "output_type": "display_data",
          "data": {
            "text/plain": [
              "<IPython.core.display.HTML object>"
            ],
            "text/html": [
              " View run at <a href='https://wandb.ai/ar17-svkm-s-narsee-monjee-institute-of-management-studies/cifar10-manual-sweep/runs/46p4bqsh' target=\"_blank\">https://wandb.ai/ar17-svkm-s-narsee-monjee-institute-of-management-studies/cifar10-manual-sweep/runs/46p4bqsh</a>"
            ]
          },
          "metadata": {}
        },
        {
          "output_type": "stream",
          "name": "stdout",
          "text": [
            "Epoch 1/15\n",
            "\u001b[1m1563/1563\u001b[0m \u001b[32m━━━━━━━━━━━━━━━━━━━━\u001b[0m\u001b[37m\u001b[0m \u001b[1m14s\u001b[0m 7ms/step - accuracy: 0.3181 - loss: 1.8359 - val_accuracy: 0.5074 - val_loss: 1.3682\n",
            "Epoch 2/15\n",
            "\u001b[1m1563/1563\u001b[0m \u001b[32m━━━━━━━━━━━━━━━━━━━━\u001b[0m\u001b[37m\u001b[0m \u001b[1m7s\u001b[0m 5ms/step - accuracy: 0.5313 - loss: 1.3101 - val_accuracy: 0.6039 - val_loss: 1.1315\n",
            "Epoch 3/15\n",
            "\u001b[1m1563/1563\u001b[0m \u001b[32m━━━━━━━━━━━━━━━━━━━━\u001b[0m\u001b[37m\u001b[0m \u001b[1m6s\u001b[0m 4ms/step - accuracy: 0.5958 - loss: 1.1325 - val_accuracy: 0.6157 - val_loss: 1.0917\n",
            "Epoch 4/15\n",
            "\u001b[1m1563/1563\u001b[0m \u001b[32m━━━━━━━━━━━━━━━━━━━━\u001b[0m\u001b[37m\u001b[0m \u001b[1m7s\u001b[0m 5ms/step - accuracy: 0.6397 - loss: 1.0151 - val_accuracy: 0.6293 - val_loss: 1.0541\n",
            "Epoch 5/15\n",
            "\u001b[1m1563/1563\u001b[0m \u001b[32m━━━━━━━━━━━━━━━━━━━━\u001b[0m\u001b[37m\u001b[0m \u001b[1m6s\u001b[0m 4ms/step - accuracy: 0.6637 - loss: 0.9541 - val_accuracy: 0.6710 - val_loss: 0.9518\n",
            "Epoch 6/15\n",
            "\u001b[1m1563/1563\u001b[0m \u001b[32m━━━━━━━━━━━━━━━━━━━━\u001b[0m\u001b[37m\u001b[0m \u001b[1m7s\u001b[0m 5ms/step - accuracy: 0.6893 - loss: 0.8897 - val_accuracy: 0.6779 - val_loss: 0.9263\n",
            "Epoch 7/15\n",
            "\u001b[1m1563/1563\u001b[0m \u001b[32m━━━━━━━━━━━━━━━━━━━━\u001b[0m\u001b[37m\u001b[0m \u001b[1m6s\u001b[0m 4ms/step - accuracy: 0.7013 - loss: 0.8440 - val_accuracy: 0.6805 - val_loss: 0.9308\n",
            "Epoch 8/15\n",
            "\u001b[1m1563/1563\u001b[0m \u001b[32m━━━━━━━━━━━━━━━━━━━━\u001b[0m\u001b[37m\u001b[0m \u001b[1m7s\u001b[0m 5ms/step - accuracy: 0.7200 - loss: 0.7912 - val_accuracy: 0.6785 - val_loss: 0.9316\n",
            "Epoch 9/15\n",
            "\u001b[1m1563/1563\u001b[0m \u001b[32m━━━━━━━━━━━━━━━━━━━━\u001b[0m\u001b[37m\u001b[0m \u001b[1m6s\u001b[0m 4ms/step - accuracy: 0.7299 - loss: 0.7669 - val_accuracy: 0.6934 - val_loss: 0.8879\n",
            "Epoch 10/15\n",
            "\u001b[1m1563/1563\u001b[0m \u001b[32m━━━━━━━━━━━━━━━━━━━━\u001b[0m\u001b[37m\u001b[0m \u001b[1m7s\u001b[0m 4ms/step - accuracy: 0.7424 - loss: 0.7271 - val_accuracy: 0.7021 - val_loss: 0.8712\n",
            "Epoch 11/15\n",
            "\u001b[1m1563/1563\u001b[0m \u001b[32m━━━━━━━━━━━━━━━━━━━━\u001b[0m\u001b[37m\u001b[0m \u001b[1m6s\u001b[0m 4ms/step - accuracy: 0.7527 - loss: 0.6976 - val_accuracy: 0.7071 - val_loss: 0.8851\n",
            "Epoch 12/15\n",
            "\u001b[1m1563/1563\u001b[0m \u001b[32m━━━━━━━━━━━━━━━━━━━━\u001b[0m\u001b[37m\u001b[0m \u001b[1m7s\u001b[0m 5ms/step - accuracy: 0.7592 - loss: 0.6741 - val_accuracy: 0.6998 - val_loss: 0.8939\n",
            "Epoch 13/15\n",
            "\u001b[1m1563/1563\u001b[0m \u001b[32m━━━━━━━━━━━━━━━━━━━━\u001b[0m\u001b[37m\u001b[0m \u001b[1m6s\u001b[0m 4ms/step - accuracy: 0.7667 - loss: 0.6556 - val_accuracy: 0.7163 - val_loss: 0.8527\n",
            "Epoch 14/15\n",
            "\u001b[1m1563/1563\u001b[0m \u001b[32m━━━━━━━━━━━━━━━━━━━━\u001b[0m\u001b[37m\u001b[0m \u001b[1m7s\u001b[0m 5ms/step - accuracy: 0.7794 - loss: 0.6208 - val_accuracy: 0.6895 - val_loss: 0.9280\n",
            "Epoch 15/15\n",
            "\u001b[1m1563/1563\u001b[0m \u001b[32m━━━━━━━━━━━━━━━━━━━━\u001b[0m\u001b[37m\u001b[0m \u001b[1m6s\u001b[0m 4ms/step - accuracy: 0.7823 - loss: 0.6016 - val_accuracy: 0.7123 - val_loss: 0.8727\n"
          ]
        },
        {
          "output_type": "display_data",
          "data": {
            "text/plain": [
              "<IPython.core.display.HTML object>"
            ],
            "text/html": []
          },
          "metadata": {}
        },
        {
          "output_type": "display_data",
          "data": {
            "text/plain": [
              "<IPython.core.display.HTML object>"
            ],
            "text/html": [
              "<br>    <style><br>        .wandb-row {<br>            display: flex;<br>            flex-direction: row;<br>            flex-wrap: wrap;<br>            justify-content: flex-start;<br>            width: 100%;<br>        }<br>        .wandb-col {<br>            display: flex;<br>            flex-direction: column;<br>            flex-basis: 100%;<br>            flex: 1;<br>            padding: 10px;<br>        }<br>    </style><br><div class=\"wandb-row\"><div class=\"wandb-col\"><h3>Run history:</h3><br/><table class=\"wandb\"><tr><td>accuracy</td><td>▁▄▅▅▆▆▇▇▇▇▇████</td></tr><tr><td>loss</td><td>█▆▄▄▃▃▃▂▂▂▂▁▁▁▁</td></tr><tr><td>val_accuracy</td><td>▁▄▅▅▆▇▇▇▇██▇█▇█</td></tr><tr><td>val_loss</td><td>█▅▄▄▂▂▂▂▁▁▁▂▁▂▁</td></tr></table><br/></div><div class=\"wandb-col\"><h3>Run summary:</h3><br/><table class=\"wandb\"><tr><td>accuracy</td><td>0.7797</td></tr><tr><td>loss</td><td>0.61816</td></tr><tr><td>val_accuracy</td><td>0.7123</td></tr><tr><td>val_loss</td><td>0.87272</td></tr></table><br/></div></div>"
            ]
          },
          "metadata": {}
        },
        {
          "output_type": "display_data",
          "data": {
            "text/plain": [
              "<IPython.core.display.HTML object>"
            ],
            "text/html": [
              " View run <strong style=\"color:#cdcd00\">robust-sweep-2</strong> at: <a href='https://wandb.ai/ar17-svkm-s-narsee-monjee-institute-of-management-studies/cifar10-manual-sweep/runs/46p4bqsh' target=\"_blank\">https://wandb.ai/ar17-svkm-s-narsee-monjee-institute-of-management-studies/cifar10-manual-sweep/runs/46p4bqsh</a><br> View project at: <a href='https://wandb.ai/ar17-svkm-s-narsee-monjee-institute-of-management-studies/cifar10-manual-sweep' target=\"_blank\">https://wandb.ai/ar17-svkm-s-narsee-monjee-institute-of-management-studies/cifar10-manual-sweep</a><br>Synced 5 W&B file(s), 0 media file(s), 0 artifact file(s) and 0 other file(s)"
            ]
          },
          "metadata": {}
        },
        {
          "output_type": "display_data",
          "data": {
            "text/plain": [
              "<IPython.core.display.HTML object>"
            ],
            "text/html": [
              "Find logs at: <code>./wandb/run-20250928_111225-46p4bqsh/logs</code>"
            ]
          },
          "metadata": {}
        },
        {
          "output_type": "stream",
          "name": "stderr",
          "text": [
            "\u001b[34m\u001b[1mwandb\u001b[0m: Sweep Agent: Waiting for job.\n",
            "\u001b[34m\u001b[1mwandb\u001b[0m: Job received.\n",
            "\u001b[34m\u001b[1mwandb\u001b[0m: Agent Starting Run: 1yub03c7 with config:\n",
            "\u001b[34m\u001b[1mwandb\u001b[0m: \tdropout: 0.4312592519167364\n",
            "\u001b[34m\u001b[1mwandb\u001b[0m: \tepochs: 5\n",
            "\u001b[34m\u001b[1mwandb\u001b[0m: \tlearning_rate: 0.01\n",
            "\u001b[34m\u001b[1mwandb\u001b[0m: \tnum_conv_layers: 1\n",
            "\u001b[34m\u001b[1mwandb\u001b[0m: \toptimizer: rmsprop\n"
          ]
        },
        {
          "output_type": "display_data",
          "data": {
            "text/plain": [
              "<IPython.core.display.HTML object>"
            ],
            "text/html": []
          },
          "metadata": {}
        },
        {
          "output_type": "display_data",
          "data": {
            "text/plain": [
              "<IPython.core.display.HTML object>"
            ],
            "text/html": [
              "Tracking run with wandb version 0.22.0"
            ]
          },
          "metadata": {}
        },
        {
          "output_type": "display_data",
          "data": {
            "text/plain": [
              "<IPython.core.display.HTML object>"
            ],
            "text/html": [
              "Run data is saved locally in <code>/content/wandb/run-20250928_111431-1yub03c7</code>"
            ]
          },
          "metadata": {}
        },
        {
          "output_type": "display_data",
          "data": {
            "text/plain": [
              "<IPython.core.display.HTML object>"
            ],
            "text/html": [
              "Syncing run <strong><a href='https://wandb.ai/ar17-svkm-s-narsee-monjee-institute-of-management-studies/cifar10-manual-sweep/runs/1yub03c7' target=\"_blank\">easy-sweep-3</a></strong> to <a href='https://wandb.ai/ar17-svkm-s-narsee-monjee-institute-of-management-studies/cifar10-manual-sweep' target=\"_blank\">Weights & Biases</a> (<a href='https://wandb.me/developer-guide' target=\"_blank\">docs</a>)<br>Sweep page: <a href='https://wandb.ai/ar17-svkm-s-narsee-monjee-institute-of-management-studies/cifar10-manual-sweep/sweeps/05ln39pq' target=\"_blank\">https://wandb.ai/ar17-svkm-s-narsee-monjee-institute-of-management-studies/cifar10-manual-sweep/sweeps/05ln39pq</a>"
            ]
          },
          "metadata": {}
        },
        {
          "output_type": "display_data",
          "data": {
            "text/plain": [
              "<IPython.core.display.HTML object>"
            ],
            "text/html": [
              " View project at <a href='https://wandb.ai/ar17-svkm-s-narsee-monjee-institute-of-management-studies/cifar10-manual-sweep' target=\"_blank\">https://wandb.ai/ar17-svkm-s-narsee-monjee-institute-of-management-studies/cifar10-manual-sweep</a>"
            ]
          },
          "metadata": {}
        },
        {
          "output_type": "display_data",
          "data": {
            "text/plain": [
              "<IPython.core.display.HTML object>"
            ],
            "text/html": [
              " View sweep at <a href='https://wandb.ai/ar17-svkm-s-narsee-monjee-institute-of-management-studies/cifar10-manual-sweep/sweeps/05ln39pq' target=\"_blank\">https://wandb.ai/ar17-svkm-s-narsee-monjee-institute-of-management-studies/cifar10-manual-sweep/sweeps/05ln39pq</a>"
            ]
          },
          "metadata": {}
        },
        {
          "output_type": "display_data",
          "data": {
            "text/plain": [
              "<IPython.core.display.HTML object>"
            ],
            "text/html": [
              " View run at <a href='https://wandb.ai/ar17-svkm-s-narsee-monjee-institute-of-management-studies/cifar10-manual-sweep/runs/1yub03c7' target=\"_blank\">https://wandb.ai/ar17-svkm-s-narsee-monjee-institute-of-management-studies/cifar10-manual-sweep/runs/1yub03c7</a>"
            ]
          },
          "metadata": {}
        },
        {
          "output_type": "stream",
          "name": "stdout",
          "text": [
            "Epoch 1/5\n",
            "\u001b[1m1563/1563\u001b[0m \u001b[32m━━━━━━━━━━━━━━━━━━━━\u001b[0m\u001b[37m\u001b[0m \u001b[1m12s\u001b[0m 6ms/step - accuracy: 0.3390 - loss: 1.8076 - val_accuracy: 0.5473 - val_loss: 1.2574\n",
            "Epoch 2/5\n",
            "\u001b[1m1563/1563\u001b[0m \u001b[32m━━━━━━━━━━━━━━━━━━━━\u001b[0m\u001b[37m\u001b[0m \u001b[1m6s\u001b[0m 4ms/step - accuracy: 0.5616 - loss: 1.2472 - val_accuracy: 0.6391 - val_loss: 1.0392\n",
            "Epoch 3/5\n",
            "\u001b[1m1563/1563\u001b[0m \u001b[32m━━━━━━━━━━━━━━━━━━━━\u001b[0m\u001b[37m\u001b[0m \u001b[1m7s\u001b[0m 4ms/step - accuracy: 0.6254 - loss: 1.0841 - val_accuracy: 0.6617 - val_loss: 1.0344\n",
            "Epoch 4/5\n",
            "\u001b[1m1563/1563\u001b[0m \u001b[32m━━━━━━━━━━━━━━━━━━━━\u001b[0m\u001b[37m\u001b[0m \u001b[1m6s\u001b[0m 4ms/step - accuracy: 0.6558 - loss: 1.0139 - val_accuracy: 0.6449 - val_loss: 1.0332\n",
            "Epoch 5/5\n",
            "\u001b[1m1563/1563\u001b[0m \u001b[32m━━━━━━━━━━━━━━━━━━━━\u001b[0m\u001b[37m\u001b[0m \u001b[1m7s\u001b[0m 4ms/step - accuracy: 0.6695 - loss: 0.9740 - val_accuracy: 0.6797 - val_loss: 0.9995\n"
          ]
        },
        {
          "output_type": "display_data",
          "data": {
            "text/plain": [
              "<IPython.core.display.HTML object>"
            ],
            "text/html": []
          },
          "metadata": {}
        },
        {
          "output_type": "display_data",
          "data": {
            "text/plain": [
              "<IPython.core.display.HTML object>"
            ],
            "text/html": [
              "<br>    <style><br>        .wandb-row {<br>            display: flex;<br>            flex-direction: row;<br>            flex-wrap: wrap;<br>            justify-content: flex-start;<br>            width: 100%;<br>        }<br>        .wandb-col {<br>            display: flex;<br>            flex-direction: column;<br>            flex-basis: 100%;<br>            flex: 1;<br>            padding: 10px;<br>        }<br>    </style><br><div class=\"wandb-row\"><div class=\"wandb-col\"><h3>Run history:</h3><br/><table class=\"wandb\"><tr><td>accuracy</td><td>▁▅▇██</td></tr><tr><td>loss</td><td>█▄▂▁▁</td></tr><tr><td>val_accuracy</td><td>▁▆▇▆█</td></tr><tr><td>val_loss</td><td>█▂▂▂▁</td></tr></table><br/></div><div class=\"wandb-col\"><h3>Run summary:</h3><br/><table class=\"wandb\"><tr><td>accuracy</td><td>0.66806</td></tr><tr><td>loss</td><td>0.99114</td></tr><tr><td>val_accuracy</td><td>0.6797</td></tr><tr><td>val_loss</td><td>0.99954</td></tr></table><br/></div></div>"
            ]
          },
          "metadata": {}
        },
        {
          "output_type": "display_data",
          "data": {
            "text/plain": [
              "<IPython.core.display.HTML object>"
            ],
            "text/html": [
              " View run <strong style=\"color:#cdcd00\">easy-sweep-3</strong> at: <a href='https://wandb.ai/ar17-svkm-s-narsee-monjee-institute-of-management-studies/cifar10-manual-sweep/runs/1yub03c7' target=\"_blank\">https://wandb.ai/ar17-svkm-s-narsee-monjee-institute-of-management-studies/cifar10-manual-sweep/runs/1yub03c7</a><br> View project at: <a href='https://wandb.ai/ar17-svkm-s-narsee-monjee-institute-of-management-studies/cifar10-manual-sweep' target=\"_blank\">https://wandb.ai/ar17-svkm-s-narsee-monjee-institute-of-management-studies/cifar10-manual-sweep</a><br>Synced 5 W&B file(s), 0 media file(s), 0 artifact file(s) and 0 other file(s)"
            ]
          },
          "metadata": {}
        },
        {
          "output_type": "display_data",
          "data": {
            "text/plain": [
              "<IPython.core.display.HTML object>"
            ],
            "text/html": [
              "Find logs at: <code>./wandb/run-20250928_111431-1yub03c7/logs</code>"
            ]
          },
          "metadata": {}
        },
        {
          "output_type": "stream",
          "name": "stderr",
          "text": [
            "\u001b[34m\u001b[1mwandb\u001b[0m: Agent Starting Run: rnlhh58e with config:\n",
            "\u001b[34m\u001b[1mwandb\u001b[0m: \tdropout: 0.20076633608603583\n",
            "\u001b[34m\u001b[1mwandb\u001b[0m: \tepochs: 15\n",
            "\u001b[34m\u001b[1mwandb\u001b[0m: \tlearning_rate: 0.0001\n",
            "\u001b[34m\u001b[1mwandb\u001b[0m: \tnum_conv_layers: 3\n",
            "\u001b[34m\u001b[1mwandb\u001b[0m: \toptimizer: adam\n"
          ]
        },
        {
          "output_type": "display_data",
          "data": {
            "text/plain": [
              "<IPython.core.display.HTML object>"
            ],
            "text/html": []
          },
          "metadata": {}
        },
        {
          "output_type": "display_data",
          "data": {
            "text/plain": [
              "<IPython.core.display.HTML object>"
            ],
            "text/html": [
              "Tracking run with wandb version 0.22.0"
            ]
          },
          "metadata": {}
        },
        {
          "output_type": "display_data",
          "data": {
            "text/plain": [
              "<IPython.core.display.HTML object>"
            ],
            "text/html": [
              "Run data is saved locally in <code>/content/wandb/run-20250928_111518-rnlhh58e</code>"
            ]
          },
          "metadata": {}
        },
        {
          "output_type": "display_data",
          "data": {
            "text/plain": [
              "<IPython.core.display.HTML object>"
            ],
            "text/html": [
              "Syncing run <strong><a href='https://wandb.ai/ar17-svkm-s-narsee-monjee-institute-of-management-studies/cifar10-manual-sweep/runs/rnlhh58e' target=\"_blank\">firm-sweep-4</a></strong> to <a href='https://wandb.ai/ar17-svkm-s-narsee-monjee-institute-of-management-studies/cifar10-manual-sweep' target=\"_blank\">Weights & Biases</a> (<a href='https://wandb.me/developer-guide' target=\"_blank\">docs</a>)<br>Sweep page: <a href='https://wandb.ai/ar17-svkm-s-narsee-monjee-institute-of-management-studies/cifar10-manual-sweep/sweeps/05ln39pq' target=\"_blank\">https://wandb.ai/ar17-svkm-s-narsee-monjee-institute-of-management-studies/cifar10-manual-sweep/sweeps/05ln39pq</a>"
            ]
          },
          "metadata": {}
        },
        {
          "output_type": "display_data",
          "data": {
            "text/plain": [
              "<IPython.core.display.HTML object>"
            ],
            "text/html": [
              " View project at <a href='https://wandb.ai/ar17-svkm-s-narsee-monjee-institute-of-management-studies/cifar10-manual-sweep' target=\"_blank\">https://wandb.ai/ar17-svkm-s-narsee-monjee-institute-of-management-studies/cifar10-manual-sweep</a>"
            ]
          },
          "metadata": {}
        },
        {
          "output_type": "display_data",
          "data": {
            "text/plain": [
              "<IPython.core.display.HTML object>"
            ],
            "text/html": [
              " View sweep at <a href='https://wandb.ai/ar17-svkm-s-narsee-monjee-institute-of-management-studies/cifar10-manual-sweep/sweeps/05ln39pq' target=\"_blank\">https://wandb.ai/ar17-svkm-s-narsee-monjee-institute-of-management-studies/cifar10-manual-sweep/sweeps/05ln39pq</a>"
            ]
          },
          "metadata": {}
        },
        {
          "output_type": "display_data",
          "data": {
            "text/plain": [
              "<IPython.core.display.HTML object>"
            ],
            "text/html": [
              " View run at <a href='https://wandb.ai/ar17-svkm-s-narsee-monjee-institute-of-management-studies/cifar10-manual-sweep/runs/rnlhh58e' target=\"_blank\">https://wandb.ai/ar17-svkm-s-narsee-monjee-institute-of-management-studies/cifar10-manual-sweep/runs/rnlhh58e</a>"
            ]
          },
          "metadata": {}
        },
        {
          "output_type": "stream",
          "name": "stdout",
          "text": [
            "Epoch 1/15\n"
          ]
        },
        {
          "output_type": "stream",
          "name": "stderr",
          "text": [
            "Traceback (most recent call last):\n",
            "  File \"/tmp/ipython-input-1585557669.py\", line 66, in train\n",
            "    model.fit(x_train, y_train,\n",
            "  File \"/usr/local/lib/python3.12/dist-packages/keras/src/utils/traceback_utils.py\", line 122, in error_handler\n",
            "    raise e.with_traceback(filtered_tb) from None\n",
            "  File \"/usr/local/lib/python3.12/dist-packages/keras/src/utils/traceback_utils.py\", line 124, in error_handler\n",
            "    del filtered_tb\n",
            "        ^^^^^^^^^^^\n",
            "ValueError: Exception encountered when calling Conv2D.call().\n",
            "\n",
            "\u001b[1mNegative dimension size caused by subtracting 3 from 2 for '{{node sequential_1/conv2d_3_1/convolution}} = Conv2D[T=DT_FLOAT, data_format=\"NHWC\", dilations=[1, 1, 1, 1], explicit_paddings=[], padding=\"VALID\", strides=[1, 1, 1, 1], use_cudnn_on_gpu=true](sequential_1/max_pooling2d_2_1/MaxPool2d, sequential_1/conv2d_3_1/convolution/ReadVariableOp)' with input shapes: [?,2,2,64], [3,3,64,64].\u001b[0m\n",
            "\n",
            "Arguments received by Conv2D.call():\n",
            "  • inputs=tf.Tensor(shape=(None, 2, 2, 64), dtype=float32)\n"
          ]
        },
        {
          "output_type": "display_data",
          "data": {
            "text/plain": [
              "<IPython.core.display.HTML object>"
            ],
            "text/html": []
          },
          "metadata": {}
        },
        {
          "output_type": "display_data",
          "data": {
            "text/plain": [
              "<IPython.core.display.HTML object>"
            ],
            "text/html": [
              " View run <strong style=\"color:#cdcd00\">firm-sweep-4</strong> at: <a href='https://wandb.ai/ar17-svkm-s-narsee-monjee-institute-of-management-studies/cifar10-manual-sweep/runs/rnlhh58e' target=\"_blank\">https://wandb.ai/ar17-svkm-s-narsee-monjee-institute-of-management-studies/cifar10-manual-sweep/runs/rnlhh58e</a><br> View project at: <a href='https://wandb.ai/ar17-svkm-s-narsee-monjee-institute-of-management-studies/cifar10-manual-sweep' target=\"_blank\">https://wandb.ai/ar17-svkm-s-narsee-monjee-institute-of-management-studies/cifar10-manual-sweep</a><br>Synced 5 W&B file(s), 0 media file(s), 0 artifact file(s) and 0 other file(s)"
            ]
          },
          "metadata": {}
        },
        {
          "output_type": "display_data",
          "data": {
            "text/plain": [
              "<IPython.core.display.HTML object>"
            ],
            "text/html": [
              "Find logs at: <code>./wandb/run-20250928_111518-rnlhh58e/logs</code>"
            ]
          },
          "metadata": {}
        },
        {
          "output_type": "stream",
          "name": "stderr",
          "text": [
            "Traceback (most recent call last):\n",
            "  File \"/usr/local/lib/python3.12/dist-packages/wandb/agents/pyagent.py\", line 297, in _run_job\n",
            "    self._function()\n",
            "  File \"/tmp/ipython-input-1585557669.py\", line 66, in train\n",
            "    model.fit(x_train, y_train,\n",
            "  File \"/usr/local/lib/python3.12/dist-packages/keras/src/utils/traceback_utils.py\", line 122, in error_handler\n",
            "    raise e.with_traceback(filtered_tb) from None\n",
            "  File \"/usr/local/lib/python3.12/dist-packages/keras/src/utils/traceback_utils.py\", line 124, in error_handler\n",
            "    del filtered_tb\n",
            "        ^^^^^^^^^^^\n",
            "ValueError: Exception encountered when calling Conv2D.call().\n",
            "\n",
            "\u001b[1mNegative dimension size caused by subtracting 3 from 2 for '{{node sequential_1/conv2d_3_1/convolution}} = Conv2D[T=DT_FLOAT, data_format=\"NHWC\", dilations=[1, 1, 1, 1], explicit_paddings=[], padding=\"VALID\", strides=[1, 1, 1, 1], use_cudnn_on_gpu=true](sequential_1/max_pooling2d_2_1/MaxPool2d, sequential_1/conv2d_3_1/convolution/ReadVariableOp)' with input shapes: [?,2,2,64], [3,3,64,64].\u001b[0m\n",
            "\n",
            "Arguments received by Conv2D.call():\n",
            "  • inputs=tf.Tensor(shape=(None, 2, 2, 64), dtype=float32)\n",
            "\n",
            "\u001b[34m\u001b[1mwandb\u001b[0m: \u001b[32m\u001b[41mERROR\u001b[0m Run rnlhh58e errored: Exception encountered when calling Conv2D.call().\n",
            "\u001b[34m\u001b[1mwandb\u001b[0m: \u001b[32m\u001b[41mERROR\u001b[0m \n",
            "\u001b[34m\u001b[1mwandb\u001b[0m: \u001b[32m\u001b[41mERROR\u001b[0m \u001b[1mNegative dimension size caused by subtracting 3 from 2 for '{{node sequential_1/conv2d_3_1/convolution}} = Conv2D[T=DT_FLOAT, data_format=\"NHWC\", dilations=[1, 1, 1, 1], explicit_paddings=[], padding=\"VALID\", strides=[1, 1, 1, 1], use_cudnn_on_gpu=true](sequential_1/max_pooling2d_2_1/MaxPool2d, sequential_1/conv2d_3_1/convolution/ReadVariableOp)' with input shapes: [?,2,2,64], [3,3,64,64].\u001b[0m\n",
            "\u001b[34m\u001b[1mwandb\u001b[0m: \u001b[32m\u001b[41mERROR\u001b[0m \n",
            "\u001b[34m\u001b[1mwandb\u001b[0m: \u001b[32m\u001b[41mERROR\u001b[0m Arguments received by Conv2D.call():\n",
            "\u001b[34m\u001b[1mwandb\u001b[0m: \u001b[32m\u001b[41mERROR\u001b[0m   • inputs=tf.Tensor(shape=(None, 2, 2, 64), dtype=float32)\n",
            "\u001b[34m\u001b[1mwandb\u001b[0m: Agent Starting Run: kesrs4xe with config:\n",
            "\u001b[34m\u001b[1mwandb\u001b[0m: \tdropout: 0.3195065179867141\n",
            "\u001b[34m\u001b[1mwandb\u001b[0m: \tepochs: 15\n",
            "\u001b[34m\u001b[1mwandb\u001b[0m: \tlearning_rate: 0.001\n",
            "\u001b[34m\u001b[1mwandb\u001b[0m: \tnum_conv_layers: 2\n",
            "\u001b[34m\u001b[1mwandb\u001b[0m: \toptimizer: sgd\n"
          ]
        },
        {
          "output_type": "display_data",
          "data": {
            "text/plain": [
              "<IPython.core.display.HTML object>"
            ],
            "text/html": []
          },
          "metadata": {}
        },
        {
          "output_type": "display_data",
          "data": {
            "text/plain": [
              "<IPython.core.display.HTML object>"
            ],
            "text/html": [
              "Tracking run with wandb version 0.22.0"
            ]
          },
          "metadata": {}
        },
        {
          "output_type": "display_data",
          "data": {
            "text/plain": [
              "<IPython.core.display.HTML object>"
            ],
            "text/html": [
              "Run data is saved locally in <code>/content/wandb/run-20250928_111529-kesrs4xe</code>"
            ]
          },
          "metadata": {}
        },
        {
          "output_type": "display_data",
          "data": {
            "text/plain": [
              "<IPython.core.display.HTML object>"
            ],
            "text/html": [
              "Syncing run <strong><a href='https://wandb.ai/ar17-svkm-s-narsee-monjee-institute-of-management-studies/cifar10-manual-sweep/runs/kesrs4xe' target=\"_blank\">peach-sweep-5</a></strong> to <a href='https://wandb.ai/ar17-svkm-s-narsee-monjee-institute-of-management-studies/cifar10-manual-sweep' target=\"_blank\">Weights & Biases</a> (<a href='https://wandb.me/developer-guide' target=\"_blank\">docs</a>)<br>Sweep page: <a href='https://wandb.ai/ar17-svkm-s-narsee-monjee-institute-of-management-studies/cifar10-manual-sweep/sweeps/05ln39pq' target=\"_blank\">https://wandb.ai/ar17-svkm-s-narsee-monjee-institute-of-management-studies/cifar10-manual-sweep/sweeps/05ln39pq</a>"
            ]
          },
          "metadata": {}
        },
        {
          "output_type": "display_data",
          "data": {
            "text/plain": [
              "<IPython.core.display.HTML object>"
            ],
            "text/html": [
              " View project at <a href='https://wandb.ai/ar17-svkm-s-narsee-monjee-institute-of-management-studies/cifar10-manual-sweep' target=\"_blank\">https://wandb.ai/ar17-svkm-s-narsee-monjee-institute-of-management-studies/cifar10-manual-sweep</a>"
            ]
          },
          "metadata": {}
        },
        {
          "output_type": "display_data",
          "data": {
            "text/plain": [
              "<IPython.core.display.HTML object>"
            ],
            "text/html": [
              " View sweep at <a href='https://wandb.ai/ar17-svkm-s-narsee-monjee-institute-of-management-studies/cifar10-manual-sweep/sweeps/05ln39pq' target=\"_blank\">https://wandb.ai/ar17-svkm-s-narsee-monjee-institute-of-management-studies/cifar10-manual-sweep/sweeps/05ln39pq</a>"
            ]
          },
          "metadata": {}
        },
        {
          "output_type": "display_data",
          "data": {
            "text/plain": [
              "<IPython.core.display.HTML object>"
            ],
            "text/html": [
              " View run at <a href='https://wandb.ai/ar17-svkm-s-narsee-monjee-institute-of-management-studies/cifar10-manual-sweep/runs/kesrs4xe' target=\"_blank\">https://wandb.ai/ar17-svkm-s-narsee-monjee-institute-of-management-studies/cifar10-manual-sweep/runs/kesrs4xe</a>"
            ]
          },
          "metadata": {}
        },
        {
          "output_type": "stream",
          "name": "stdout",
          "text": [
            "Epoch 1/15\n",
            "\u001b[1m1563/1563\u001b[0m \u001b[32m━━━━━━━━━━━━━━━━━━━━\u001b[0m\u001b[37m\u001b[0m \u001b[1m12s\u001b[0m 6ms/step - accuracy: 0.1505 - loss: 2.2395 - val_accuracy: 0.2808 - val_loss: 1.9664\n",
            "Epoch 2/15\n",
            "\u001b[1m1563/1563\u001b[0m \u001b[32m━━━━━━━━━━━━━━━━━━━━\u001b[0m\u001b[37m\u001b[0m \u001b[1m7s\u001b[0m 4ms/step - accuracy: 0.2821 - loss: 1.9508 - val_accuracy: 0.3896 - val_loss: 1.7173\n",
            "Epoch 3/15\n",
            "\u001b[1m1563/1563\u001b[0m \u001b[32m━━━━━━━━━━━━━━━━━━━━\u001b[0m\u001b[37m\u001b[0m \u001b[1m6s\u001b[0m 4ms/step - accuracy: 0.3609 - loss: 1.7432 - val_accuracy: 0.4393 - val_loss: 1.5565\n",
            "Epoch 4/15\n",
            "\u001b[1m1563/1563\u001b[0m \u001b[32m━━━━━━━━━━━━━━━━━━━━\u001b[0m\u001b[37m\u001b[0m \u001b[1m7s\u001b[0m 4ms/step - accuracy: 0.4246 - loss: 1.5838 - val_accuracy: 0.4812 - val_loss: 1.4400\n",
            "Epoch 5/15\n",
            "\u001b[1m1563/1563\u001b[0m \u001b[32m━━━━━━━━━━━━━━━━━━━━\u001b[0m\u001b[37m\u001b[0m \u001b[1m6s\u001b[0m 4ms/step - accuracy: 0.4582 - loss: 1.4958 - val_accuracy: 0.5052 - val_loss: 1.3940\n",
            "Epoch 6/15\n",
            "\u001b[1m1563/1563\u001b[0m \u001b[32m━━━━━━━━━━━━━━━━━━━━\u001b[0m\u001b[37m\u001b[0m \u001b[1m7s\u001b[0m 4ms/step - accuracy: 0.4890 - loss: 1.4207 - val_accuracy: 0.5304 - val_loss: 1.3087\n",
            "Epoch 7/15\n",
            "\u001b[1m1563/1563\u001b[0m \u001b[32m━━━━━━━━━━━━━━━━━━━━\u001b[0m\u001b[37m\u001b[0m \u001b[1m6s\u001b[0m 4ms/step - accuracy: 0.5127 - loss: 1.3680 - val_accuracy: 0.5417 - val_loss: 1.2765\n",
            "Epoch 8/15\n",
            "\u001b[1m1563/1563\u001b[0m \u001b[32m━━━━━━━━━━━━━━━━━━━━\u001b[0m\u001b[37m\u001b[0m \u001b[1m7s\u001b[0m 4ms/step - accuracy: 0.5337 - loss: 1.3054 - val_accuracy: 0.5439 - val_loss: 1.2659\n",
            "Epoch 9/15\n",
            "\u001b[1m1563/1563\u001b[0m \u001b[32m━━━━━━━━━━━━━━━━━━━━\u001b[0m\u001b[37m\u001b[0m \u001b[1m6s\u001b[0m 4ms/step - accuracy: 0.5512 - loss: 1.2563 - val_accuracy: 0.5707 - val_loss: 1.2161\n",
            "Epoch 10/15\n",
            "\u001b[1m1563/1563\u001b[0m \u001b[32m━━━━━━━━━━━━━━━━━━━━\u001b[0m\u001b[37m\u001b[0m \u001b[1m7s\u001b[0m 4ms/step - accuracy: 0.5730 - loss: 1.1994 - val_accuracy: 0.5983 - val_loss: 1.1403\n",
            "Epoch 11/15\n",
            "\u001b[1m1563/1563\u001b[0m \u001b[32m━━━━━━━━━━━━━━━━━━━━\u001b[0m\u001b[37m\u001b[0m \u001b[1m6s\u001b[0m 4ms/step - accuracy: 0.5891 - loss: 1.1650 - val_accuracy: 0.5964 - val_loss: 1.1335\n",
            "Epoch 12/15\n",
            "\u001b[1m1563/1563\u001b[0m \u001b[32m━━━━━━━━━━━━━━━━━━━━\u001b[0m\u001b[37m\u001b[0m \u001b[1m6s\u001b[0m 4ms/step - accuracy: 0.5949 - loss: 1.1359 - val_accuracy: 0.6101 - val_loss: 1.1167\n",
            "Epoch 13/15\n",
            "\u001b[1m1563/1563\u001b[0m \u001b[32m━━━━━━━━━━━━━━━━━━━━\u001b[0m\u001b[37m\u001b[0m \u001b[1m6s\u001b[0m 4ms/step - accuracy: 0.6123 - loss: 1.1019 - val_accuracy: 0.6197 - val_loss: 1.0776\n",
            "Epoch 14/15\n",
            "\u001b[1m1563/1563\u001b[0m \u001b[32m━━━━━━━━━━━━━━━━━━━━\u001b[0m\u001b[37m\u001b[0m \u001b[1m6s\u001b[0m 4ms/step - accuracy: 0.6185 - loss: 1.0759 - val_accuracy: 0.6228 - val_loss: 1.0867\n",
            "Epoch 15/15\n",
            "\u001b[1m1563/1563\u001b[0m \u001b[32m━━━━━━━━━━━━━━━━━━━━\u001b[0m\u001b[37m\u001b[0m \u001b[1m11s\u001b[0m 4ms/step - accuracy: 0.6340 - loss: 1.0388 - val_accuracy: 0.6277 - val_loss: 1.0707\n"
          ]
        },
        {
          "output_type": "display_data",
          "data": {
            "text/plain": [
              "<IPython.core.display.HTML object>"
            ],
            "text/html": []
          },
          "metadata": {}
        },
        {
          "output_type": "display_data",
          "data": {
            "text/plain": [
              "<IPython.core.display.HTML object>"
            ],
            "text/html": [
              "<br>    <style><br>        .wandb-row {<br>            display: flex;<br>            flex-direction: row;<br>            flex-wrap: wrap;<br>            justify-content: flex-start;<br>            width: 100%;<br>        }<br>        .wandb-col {<br>            display: flex;<br>            flex-direction: column;<br>            flex-basis: 100%;<br>            flex: 1;<br>            padding: 10px;<br>        }<br>    </style><br><div class=\"wandb-row\"><div class=\"wandb-col\"><h3>Run history:</h3><br/><table class=\"wandb\"><tr><td>accuracy</td><td>▁▃▄▅▅▆▆▆▇▇▇▇███</td></tr><tr><td>loss</td><td>█▆▅▄▄▃▃▃▂▂▂▂▁▁▁</td></tr><tr><td>val_accuracy</td><td>▁▃▄▅▆▆▆▆▇▇▇████</td></tr><tr><td>val_loss</td><td>█▆▅▄▄▃▃▃▂▂▁▁▁▁▁</td></tr></table><br/></div><div class=\"wandb-col\"><h3>Run summary:</h3><br/><table class=\"wandb\"><tr><td>accuracy</td><td>0.63606</td></tr><tr><td>loss</td><td>1.03399</td></tr><tr><td>val_accuracy</td><td>0.6277</td></tr><tr><td>val_loss</td><td>1.07067</td></tr></table><br/></div></div>"
            ]
          },
          "metadata": {}
        },
        {
          "output_type": "display_data",
          "data": {
            "text/plain": [
              "<IPython.core.display.HTML object>"
            ],
            "text/html": [
              " View run <strong style=\"color:#cdcd00\">peach-sweep-5</strong> at: <a href='https://wandb.ai/ar17-svkm-s-narsee-monjee-institute-of-management-studies/cifar10-manual-sweep/runs/kesrs4xe' target=\"_blank\">https://wandb.ai/ar17-svkm-s-narsee-monjee-institute-of-management-studies/cifar10-manual-sweep/runs/kesrs4xe</a><br> View project at: <a href='https://wandb.ai/ar17-svkm-s-narsee-monjee-institute-of-management-studies/cifar10-manual-sweep' target=\"_blank\">https://wandb.ai/ar17-svkm-s-narsee-monjee-institute-of-management-studies/cifar10-manual-sweep</a><br>Synced 5 W&B file(s), 0 media file(s), 0 artifact file(s) and 0 other file(s)"
            ]
          },
          "metadata": {}
        },
        {
          "output_type": "display_data",
          "data": {
            "text/plain": [
              "<IPython.core.display.HTML object>"
            ],
            "text/html": [
              "Find logs at: <code>./wandb/run-20250928_111529-kesrs4xe/logs</code>"
            ]
          },
          "metadata": {}
        },
        {
          "output_type": "stream",
          "name": "stderr",
          "text": [
            "\u001b[34m\u001b[1mwandb\u001b[0m: Agent Starting Run: lump9wf1 with config:\n",
            "\u001b[34m\u001b[1mwandb\u001b[0m: \tdropout: 0.3660665714886672\n",
            "\u001b[34m\u001b[1mwandb\u001b[0m: \tepochs: 5\n",
            "\u001b[34m\u001b[1mwandb\u001b[0m: \tlearning_rate: 0.001\n",
            "\u001b[34m\u001b[1mwandb\u001b[0m: \tnum_conv_layers: 3\n",
            "\u001b[34m\u001b[1mwandb\u001b[0m: \toptimizer: adam\n"
          ]
        },
        {
          "output_type": "display_data",
          "data": {
            "text/plain": [
              "<IPython.core.display.HTML object>"
            ],
            "text/html": []
          },
          "metadata": {}
        },
        {
          "output_type": "display_data",
          "data": {
            "text/plain": [
              "<IPython.core.display.HTML object>"
            ],
            "text/html": [
              "Tracking run with wandb version 0.22.0"
            ]
          },
          "metadata": {}
        },
        {
          "output_type": "display_data",
          "data": {
            "text/plain": [
              "<IPython.core.display.HTML object>"
            ],
            "text/html": [
              "Run data is saved locally in <code>/content/wandb/run-20250928_111724-lump9wf1</code>"
            ]
          },
          "metadata": {}
        },
        {
          "output_type": "display_data",
          "data": {
            "text/plain": [
              "<IPython.core.display.HTML object>"
            ],
            "text/html": [
              "Syncing run <strong><a href='https://wandb.ai/ar17-svkm-s-narsee-monjee-institute-of-management-studies/cifar10-manual-sweep/runs/lump9wf1' target=\"_blank\">pious-sweep-6</a></strong> to <a href='https://wandb.ai/ar17-svkm-s-narsee-monjee-institute-of-management-studies/cifar10-manual-sweep' target=\"_blank\">Weights & Biases</a> (<a href='https://wandb.me/developer-guide' target=\"_blank\">docs</a>)<br>Sweep page: <a href='https://wandb.ai/ar17-svkm-s-narsee-monjee-institute-of-management-studies/cifar10-manual-sweep/sweeps/05ln39pq' target=\"_blank\">https://wandb.ai/ar17-svkm-s-narsee-monjee-institute-of-management-studies/cifar10-manual-sweep/sweeps/05ln39pq</a>"
            ]
          },
          "metadata": {}
        },
        {
          "output_type": "display_data",
          "data": {
            "text/plain": [
              "<IPython.core.display.HTML object>"
            ],
            "text/html": [
              " View project at <a href='https://wandb.ai/ar17-svkm-s-narsee-monjee-institute-of-management-studies/cifar10-manual-sweep' target=\"_blank\">https://wandb.ai/ar17-svkm-s-narsee-monjee-institute-of-management-studies/cifar10-manual-sweep</a>"
            ]
          },
          "metadata": {}
        },
        {
          "output_type": "display_data",
          "data": {
            "text/plain": [
              "<IPython.core.display.HTML object>"
            ],
            "text/html": [
              " View sweep at <a href='https://wandb.ai/ar17-svkm-s-narsee-monjee-institute-of-management-studies/cifar10-manual-sweep/sweeps/05ln39pq' target=\"_blank\">https://wandb.ai/ar17-svkm-s-narsee-monjee-institute-of-management-studies/cifar10-manual-sweep/sweeps/05ln39pq</a>"
            ]
          },
          "metadata": {}
        },
        {
          "output_type": "display_data",
          "data": {
            "text/plain": [
              "<IPython.core.display.HTML object>"
            ],
            "text/html": [
              " View run at <a href='https://wandb.ai/ar17-svkm-s-narsee-monjee-institute-of-management-studies/cifar10-manual-sweep/runs/lump9wf1' target=\"_blank\">https://wandb.ai/ar17-svkm-s-narsee-monjee-institute-of-management-studies/cifar10-manual-sweep/runs/lump9wf1</a>"
            ]
          },
          "metadata": {}
        },
        {
          "output_type": "stream",
          "name": "stdout",
          "text": [
            "Epoch 1/5\n"
          ]
        },
        {
          "output_type": "stream",
          "name": "stderr",
          "text": [
            "Traceback (most recent call last):\n",
            "  File \"/tmp/ipython-input-1585557669.py\", line 66, in train\n",
            "    model.fit(x_train, y_train,\n",
            "  File \"/usr/local/lib/python3.12/dist-packages/keras/src/utils/traceback_utils.py\", line 122, in error_handler\n",
            "    raise e.with_traceback(filtered_tb) from None\n",
            "  File \"/usr/local/lib/python3.12/dist-packages/keras/src/utils/traceback_utils.py\", line 124, in error_handler\n",
            "    del filtered_tb\n",
            "        ^^^^^^^^^^^\n",
            "ValueError: Exception encountered when calling Conv2D.call().\n",
            "\n",
            "\u001b[1mNegative dimension size caused by subtracting 3 from 2 for '{{node sequential_1/conv2d_3_1/convolution}} = Conv2D[T=DT_FLOAT, data_format=\"NHWC\", dilations=[1, 1, 1, 1], explicit_paddings=[], padding=\"VALID\", strides=[1, 1, 1, 1], use_cudnn_on_gpu=true](sequential_1/max_pooling2d_2_1/MaxPool2d, sequential_1/conv2d_3_1/convolution/ReadVariableOp)' with input shapes: [?,2,2,64], [3,3,64,64].\u001b[0m\n",
            "\n",
            "Arguments received by Conv2D.call():\n",
            "  • inputs=tf.Tensor(shape=(None, 2, 2, 64), dtype=float32)\n"
          ]
        },
        {
          "output_type": "display_data",
          "data": {
            "text/plain": [
              "<IPython.core.display.HTML object>"
            ],
            "text/html": []
          },
          "metadata": {}
        },
        {
          "output_type": "display_data",
          "data": {
            "text/plain": [
              "<IPython.core.display.HTML object>"
            ],
            "text/html": [
              " View run <strong style=\"color:#cdcd00\">pious-sweep-6</strong> at: <a href='https://wandb.ai/ar17-svkm-s-narsee-monjee-institute-of-management-studies/cifar10-manual-sweep/runs/lump9wf1' target=\"_blank\">https://wandb.ai/ar17-svkm-s-narsee-monjee-institute-of-management-studies/cifar10-manual-sweep/runs/lump9wf1</a><br> View project at: <a href='https://wandb.ai/ar17-svkm-s-narsee-monjee-institute-of-management-studies/cifar10-manual-sweep' target=\"_blank\">https://wandb.ai/ar17-svkm-s-narsee-monjee-institute-of-management-studies/cifar10-manual-sweep</a><br>Synced 5 W&B file(s), 0 media file(s), 0 artifact file(s) and 0 other file(s)"
            ]
          },
          "metadata": {}
        },
        {
          "output_type": "display_data",
          "data": {
            "text/plain": [
              "<IPython.core.display.HTML object>"
            ],
            "text/html": [
              "Find logs at: <code>./wandb/run-20250928_111724-lump9wf1/logs</code>"
            ]
          },
          "metadata": {}
        },
        {
          "output_type": "stream",
          "name": "stderr",
          "text": [
            "Traceback (most recent call last):\n",
            "  File \"/usr/local/lib/python3.12/dist-packages/wandb/agents/pyagent.py\", line 297, in _run_job\n",
            "    self._function()\n",
            "  File \"/tmp/ipython-input-1585557669.py\", line 66, in train\n",
            "    model.fit(x_train, y_train,\n",
            "  File \"/usr/local/lib/python3.12/dist-packages/keras/src/utils/traceback_utils.py\", line 122, in error_handler\n",
            "    raise e.with_traceback(filtered_tb) from None\n",
            "  File \"/usr/local/lib/python3.12/dist-packages/keras/src/utils/traceback_utils.py\", line 124, in error_handler\n",
            "    del filtered_tb\n",
            "        ^^^^^^^^^^^\n",
            "ValueError: Exception encountered when calling Conv2D.call().\n",
            "\n",
            "\u001b[1mNegative dimension size caused by subtracting 3 from 2 for '{{node sequential_1/conv2d_3_1/convolution}} = Conv2D[T=DT_FLOAT, data_format=\"NHWC\", dilations=[1, 1, 1, 1], explicit_paddings=[], padding=\"VALID\", strides=[1, 1, 1, 1], use_cudnn_on_gpu=true](sequential_1/max_pooling2d_2_1/MaxPool2d, sequential_1/conv2d_3_1/convolution/ReadVariableOp)' with input shapes: [?,2,2,64], [3,3,64,64].\u001b[0m\n",
            "\n",
            "Arguments received by Conv2D.call():\n",
            "  • inputs=tf.Tensor(shape=(None, 2, 2, 64), dtype=float32)\n",
            "\n",
            "\u001b[34m\u001b[1mwandb\u001b[0m: \u001b[32m\u001b[41mERROR\u001b[0m Run lump9wf1 errored: Exception encountered when calling Conv2D.call().\n",
            "\u001b[34m\u001b[1mwandb\u001b[0m: \u001b[32m\u001b[41mERROR\u001b[0m \n",
            "\u001b[34m\u001b[1mwandb\u001b[0m: \u001b[32m\u001b[41mERROR\u001b[0m \u001b[1mNegative dimension size caused by subtracting 3 from 2 for '{{node sequential_1/conv2d_3_1/convolution}} = Conv2D[T=DT_FLOAT, data_format=\"NHWC\", dilations=[1, 1, 1, 1], explicit_paddings=[], padding=\"VALID\", strides=[1, 1, 1, 1], use_cudnn_on_gpu=true](sequential_1/max_pooling2d_2_1/MaxPool2d, sequential_1/conv2d_3_1/convolution/ReadVariableOp)' with input shapes: [?,2,2,64], [3,3,64,64].\u001b[0m\n",
            "\u001b[34m\u001b[1mwandb\u001b[0m: \u001b[32m\u001b[41mERROR\u001b[0m \n",
            "\u001b[34m\u001b[1mwandb\u001b[0m: \u001b[32m\u001b[41mERROR\u001b[0m Arguments received by Conv2D.call():\n",
            "\u001b[34m\u001b[1mwandb\u001b[0m: \u001b[32m\u001b[41mERROR\u001b[0m   • inputs=tf.Tensor(shape=(None, 2, 2, 64), dtype=float32)\n",
            "\u001b[34m\u001b[1mwandb\u001b[0m: Agent Starting Run: dwe0a0cp with config:\n",
            "\u001b[34m\u001b[1mwandb\u001b[0m: \tdropout: 0.4044940404506183\n",
            "\u001b[34m\u001b[1mwandb\u001b[0m: \tepochs: 15\n",
            "\u001b[34m\u001b[1mwandb\u001b[0m: \tlearning_rate: 0.0001\n",
            "\u001b[34m\u001b[1mwandb\u001b[0m: \tnum_conv_layers: 2\n",
            "\u001b[34m\u001b[1mwandb\u001b[0m: \toptimizer: adam\n"
          ]
        },
        {
          "output_type": "display_data",
          "data": {
            "text/plain": [
              "<IPython.core.display.HTML object>"
            ],
            "text/html": []
          },
          "metadata": {}
        },
        {
          "output_type": "display_data",
          "data": {
            "text/plain": [
              "<IPython.core.display.HTML object>"
            ],
            "text/html": [
              "Tracking run with wandb version 0.22.0"
            ]
          },
          "metadata": {}
        },
        {
          "output_type": "display_data",
          "data": {
            "text/plain": [
              "<IPython.core.display.HTML object>"
            ],
            "text/html": [
              "Run data is saved locally in <code>/content/wandb/run-20250928_111738-dwe0a0cp</code>"
            ]
          },
          "metadata": {}
        },
        {
          "output_type": "display_data",
          "data": {
            "text/plain": [
              "<IPython.core.display.HTML object>"
            ],
            "text/html": [
              "Syncing run <strong><a href='https://wandb.ai/ar17-svkm-s-narsee-monjee-institute-of-management-studies/cifar10-manual-sweep/runs/dwe0a0cp' target=\"_blank\">comic-sweep-7</a></strong> to <a href='https://wandb.ai/ar17-svkm-s-narsee-monjee-institute-of-management-studies/cifar10-manual-sweep' target=\"_blank\">Weights & Biases</a> (<a href='https://wandb.me/developer-guide' target=\"_blank\">docs</a>)<br>Sweep page: <a href='https://wandb.ai/ar17-svkm-s-narsee-monjee-institute-of-management-studies/cifar10-manual-sweep/sweeps/05ln39pq' target=\"_blank\">https://wandb.ai/ar17-svkm-s-narsee-monjee-institute-of-management-studies/cifar10-manual-sweep/sweeps/05ln39pq</a>"
            ]
          },
          "metadata": {}
        },
        {
          "output_type": "display_data",
          "data": {
            "text/plain": [
              "<IPython.core.display.HTML object>"
            ],
            "text/html": [
              " View project at <a href='https://wandb.ai/ar17-svkm-s-narsee-monjee-institute-of-management-studies/cifar10-manual-sweep' target=\"_blank\">https://wandb.ai/ar17-svkm-s-narsee-monjee-institute-of-management-studies/cifar10-manual-sweep</a>"
            ]
          },
          "metadata": {}
        },
        {
          "output_type": "display_data",
          "data": {
            "text/plain": [
              "<IPython.core.display.HTML object>"
            ],
            "text/html": [
              " View sweep at <a href='https://wandb.ai/ar17-svkm-s-narsee-monjee-institute-of-management-studies/cifar10-manual-sweep/sweeps/05ln39pq' target=\"_blank\">https://wandb.ai/ar17-svkm-s-narsee-monjee-institute-of-management-studies/cifar10-manual-sweep/sweeps/05ln39pq</a>"
            ]
          },
          "metadata": {}
        },
        {
          "output_type": "display_data",
          "data": {
            "text/plain": [
              "<IPython.core.display.HTML object>"
            ],
            "text/html": [
              " View run at <a href='https://wandb.ai/ar17-svkm-s-narsee-monjee-institute-of-management-studies/cifar10-manual-sweep/runs/dwe0a0cp' target=\"_blank\">https://wandb.ai/ar17-svkm-s-narsee-monjee-institute-of-management-studies/cifar10-manual-sweep/runs/dwe0a0cp</a>"
            ]
          },
          "metadata": {}
        },
        {
          "output_type": "stream",
          "name": "stdout",
          "text": [
            "Epoch 1/15\n",
            "\u001b[1m1563/1563\u001b[0m \u001b[32m━━━━━━━━━━━━━━━━━━━━\u001b[0m\u001b[37m\u001b[0m \u001b[1m15s\u001b[0m 8ms/step - accuracy: 0.2952 - loss: 1.8704 - val_accuracy: 0.5214 - val_loss: 1.3282\n",
            "Epoch 2/15\n",
            "\u001b[1m1563/1563\u001b[0m \u001b[32m━━━━━━━━━━━━━━━━━━━━\u001b[0m\u001b[37m\u001b[0m \u001b[1m7s\u001b[0m 4ms/step - accuracy: 0.5249 - loss: 1.3065 - val_accuracy: 0.5927 - val_loss: 1.1487\n",
            "Epoch 3/15\n",
            "\u001b[1m1563/1563\u001b[0m \u001b[32m━━━━━━━━━━━━━━━━━━━━\u001b[0m\u001b[37m\u001b[0m \u001b[1m7s\u001b[0m 4ms/step - accuracy: 0.5928 - loss: 1.1502 - val_accuracy: 0.6292 - val_loss: 1.0450\n",
            "Epoch 4/15\n",
            "\u001b[1m1563/1563\u001b[0m \u001b[32m━━━━━━━━━━━━━━━━━━━━\u001b[0m\u001b[37m\u001b[0m \u001b[1m10s\u001b[0m 4ms/step - accuracy: 0.6337 - loss: 1.0508 - val_accuracy: 0.6538 - val_loss: 0.9822\n",
            "Epoch 5/15\n",
            "\u001b[1m1563/1563\u001b[0m \u001b[32m━━━━━━━━━━━━━━━━━━━━\u001b[0m\u001b[37m\u001b[0m \u001b[1m7s\u001b[0m 5ms/step - accuracy: 0.6595 - loss: 0.9699 - val_accuracy: 0.6652 - val_loss: 0.9500\n",
            "Epoch 6/15\n",
            "\u001b[1m1563/1563\u001b[0m \u001b[32m━━━━━━━━━━━━━━━━━━━━\u001b[0m\u001b[37m\u001b[0m \u001b[1m7s\u001b[0m 4ms/step - accuracy: 0.6811 - loss: 0.9176 - val_accuracy: 0.6718 - val_loss: 0.9482\n",
            "Epoch 7/15\n",
            "\u001b[1m1563/1563\u001b[0m \u001b[32m━━━━━━━━━━━━━━━━━━━━\u001b[0m\u001b[37m\u001b[0m \u001b[1m7s\u001b[0m 4ms/step - accuracy: 0.7008 - loss: 0.8602 - val_accuracy: 0.6756 - val_loss: 0.9449\n",
            "Epoch 8/15\n",
            "\u001b[1m1563/1563\u001b[0m \u001b[32m━━━━━━━━━━━━━━━━━━━━\u001b[0m\u001b[37m\u001b[0m \u001b[1m7s\u001b[0m 4ms/step - accuracy: 0.7140 - loss: 0.8154 - val_accuracy: 0.6996 - val_loss: 0.8700\n",
            "Epoch 9/15\n",
            "\u001b[1m1563/1563\u001b[0m \u001b[32m━━━━━━━━━━━━━━━━━━━━\u001b[0m\u001b[37m\u001b[0m \u001b[1m10s\u001b[0m 4ms/step - accuracy: 0.7275 - loss: 0.7841 - val_accuracy: 0.6978 - val_loss: 0.8774\n",
            "Epoch 10/15\n",
            "\u001b[1m1563/1563\u001b[0m \u001b[32m━━━━━━━━━━━━━━━━━━━━\u001b[0m\u001b[37m\u001b[0m \u001b[1m7s\u001b[0m 5ms/step - accuracy: 0.7402 - loss: 0.7488 - val_accuracy: 0.7039 - val_loss: 0.8562\n",
            "Epoch 11/15\n",
            "\u001b[1m1563/1563\u001b[0m \u001b[32m━━━━━━━━━━━━━━━━━━━━\u001b[0m\u001b[37m\u001b[0m \u001b[1m7s\u001b[0m 4ms/step - accuracy: 0.7445 - loss: 0.7315 - val_accuracy: 0.7080 - val_loss: 0.8681\n",
            "Epoch 12/15\n",
            "\u001b[1m1563/1563\u001b[0m \u001b[32m━━━━━━━━━━━━━━━━━━━━\u001b[0m\u001b[37m\u001b[0m \u001b[1m7s\u001b[0m 5ms/step - accuracy: 0.7529 - loss: 0.7094 - val_accuracy: 0.7074 - val_loss: 0.8772\n",
            "Epoch 13/15\n",
            "\u001b[1m1563/1563\u001b[0m \u001b[32m━━━━━━━━━━━━━━━━━━━━\u001b[0m\u001b[37m\u001b[0m \u001b[1m6s\u001b[0m 4ms/step - accuracy: 0.7605 - loss: 0.6803 - val_accuracy: 0.7123 - val_loss: 0.8591\n",
            "Epoch 14/15\n",
            "\u001b[1m1563/1563\u001b[0m \u001b[32m━━━━━━━━━━━━━━━━━━━━\u001b[0m\u001b[37m\u001b[0m \u001b[1m7s\u001b[0m 5ms/step - accuracy: 0.7703 - loss: 0.6602 - val_accuracy: 0.7195 - val_loss: 0.8551\n",
            "Epoch 15/15\n",
            "\u001b[1m1563/1563\u001b[0m \u001b[32m━━━━━━━━━━━━━━━━━━━━\u001b[0m\u001b[37m\u001b[0m \u001b[1m7s\u001b[0m 4ms/step - accuracy: 0.7784 - loss: 0.6273 - val_accuracy: 0.7202 - val_loss: 0.8402\n"
          ]
        },
        {
          "output_type": "display_data",
          "data": {
            "text/plain": [
              "<IPython.core.display.HTML object>"
            ],
            "text/html": []
          },
          "metadata": {}
        },
        {
          "output_type": "display_data",
          "data": {
            "text/plain": [
              "<IPython.core.display.HTML object>"
            ],
            "text/html": [
              "<br>    <style><br>        .wandb-row {<br>            display: flex;<br>            flex-direction: row;<br>            flex-wrap: wrap;<br>            justify-content: flex-start;<br>            width: 100%;<br>        }<br>        .wandb-col {<br>            display: flex;<br>            flex-direction: column;<br>            flex-basis: 100%;<br>            flex: 1;<br>            padding: 10px;<br>        }<br>    </style><br><div class=\"wandb-row\"><div class=\"wandb-col\"><h3>Run history:</h3><br/><table class=\"wandb\"><tr><td>accuracy</td><td>▁▄▅▅▆▆▇▇▇▇▇████</td></tr><tr><td>loss</td><td>█▅▄▄▃▃▃▂▂▂▂▁▁▁▁</td></tr><tr><td>val_accuracy</td><td>▁▄▅▆▆▆▆▇▇▇█████</td></tr><tr><td>val_loss</td><td>█▅▄▃▃▃▃▁▂▁▁▂▁▁▁</td></tr></table><br/></div><div class=\"wandb-col\"><h3>Run summary:</h3><br/><table class=\"wandb\"><tr><td>accuracy</td><td>0.77194</td></tr><tr><td>loss</td><td>0.64858</td></tr><tr><td>val_accuracy</td><td>0.7202</td></tr><tr><td>val_loss</td><td>0.8402</td></tr></table><br/></div></div>"
            ]
          },
          "metadata": {}
        },
        {
          "output_type": "display_data",
          "data": {
            "text/plain": [
              "<IPython.core.display.HTML object>"
            ],
            "text/html": [
              " View run <strong style=\"color:#cdcd00\">comic-sweep-7</strong> at: <a href='https://wandb.ai/ar17-svkm-s-narsee-monjee-institute-of-management-studies/cifar10-manual-sweep/runs/dwe0a0cp' target=\"_blank\">https://wandb.ai/ar17-svkm-s-narsee-monjee-institute-of-management-studies/cifar10-manual-sweep/runs/dwe0a0cp</a><br> View project at: <a href='https://wandb.ai/ar17-svkm-s-narsee-monjee-institute-of-management-studies/cifar10-manual-sweep' target=\"_blank\">https://wandb.ai/ar17-svkm-s-narsee-monjee-institute-of-management-studies/cifar10-manual-sweep</a><br>Synced 5 W&B file(s), 0 media file(s), 0 artifact file(s) and 0 other file(s)"
            ]
          },
          "metadata": {}
        },
        {
          "output_type": "display_data",
          "data": {
            "text/plain": [
              "<IPython.core.display.HTML object>"
            ],
            "text/html": [
              "Find logs at: <code>./wandb/run-20250928_111738-dwe0a0cp/logs</code>"
            ]
          },
          "metadata": {}
        },
        {
          "output_type": "stream",
          "name": "stderr",
          "text": [
            "\u001b[34m\u001b[1mwandb\u001b[0m: Agent Starting Run: 5oh0v7sr with config:\n",
            "\u001b[34m\u001b[1mwandb\u001b[0m: \tdropout: 0.2825994786532977\n",
            "\u001b[34m\u001b[1mwandb\u001b[0m: \tepochs: 15\n",
            "\u001b[34m\u001b[1mwandb\u001b[0m: \tlearning_rate: 0.001\n",
            "\u001b[34m\u001b[1mwandb\u001b[0m: \tnum_conv_layers: 1\n",
            "\u001b[34m\u001b[1mwandb\u001b[0m: \toptimizer: rmsprop\n"
          ]
        },
        {
          "output_type": "display_data",
          "data": {
            "text/plain": [
              "<IPython.core.display.HTML object>"
            ],
            "text/html": []
          },
          "metadata": {}
        },
        {
          "output_type": "display_data",
          "data": {
            "text/plain": [
              "<IPython.core.display.HTML object>"
            ],
            "text/html": [
              "Tracking run with wandb version 0.22.0"
            ]
          },
          "metadata": {}
        },
        {
          "output_type": "display_data",
          "data": {
            "text/plain": [
              "<IPython.core.display.HTML object>"
            ],
            "text/html": [
              "Run data is saved locally in <code>/content/wandb/run-20250928_111946-5oh0v7sr</code>"
            ]
          },
          "metadata": {}
        },
        {
          "output_type": "display_data",
          "data": {
            "text/plain": [
              "<IPython.core.display.HTML object>"
            ],
            "text/html": [
              "Syncing run <strong><a href='https://wandb.ai/ar17-svkm-s-narsee-monjee-institute-of-management-studies/cifar10-manual-sweep/runs/5oh0v7sr' target=\"_blank\">ethereal-sweep-8</a></strong> to <a href='https://wandb.ai/ar17-svkm-s-narsee-monjee-institute-of-management-studies/cifar10-manual-sweep' target=\"_blank\">Weights & Biases</a> (<a href='https://wandb.me/developer-guide' target=\"_blank\">docs</a>)<br>Sweep page: <a href='https://wandb.ai/ar17-svkm-s-narsee-monjee-institute-of-management-studies/cifar10-manual-sweep/sweeps/05ln39pq' target=\"_blank\">https://wandb.ai/ar17-svkm-s-narsee-monjee-institute-of-management-studies/cifar10-manual-sweep/sweeps/05ln39pq</a>"
            ]
          },
          "metadata": {}
        },
        {
          "output_type": "display_data",
          "data": {
            "text/plain": [
              "<IPython.core.display.HTML object>"
            ],
            "text/html": [
              " View project at <a href='https://wandb.ai/ar17-svkm-s-narsee-monjee-institute-of-management-studies/cifar10-manual-sweep' target=\"_blank\">https://wandb.ai/ar17-svkm-s-narsee-monjee-institute-of-management-studies/cifar10-manual-sweep</a>"
            ]
          },
          "metadata": {}
        },
        {
          "output_type": "display_data",
          "data": {
            "text/plain": [
              "<IPython.core.display.HTML object>"
            ],
            "text/html": [
              " View sweep at <a href='https://wandb.ai/ar17-svkm-s-narsee-monjee-institute-of-management-studies/cifar10-manual-sweep/sweeps/05ln39pq' target=\"_blank\">https://wandb.ai/ar17-svkm-s-narsee-monjee-institute-of-management-studies/cifar10-manual-sweep/sweeps/05ln39pq</a>"
            ]
          },
          "metadata": {}
        },
        {
          "output_type": "display_data",
          "data": {
            "text/plain": [
              "<IPython.core.display.HTML object>"
            ],
            "text/html": [
              " View run at <a href='https://wandb.ai/ar17-svkm-s-narsee-monjee-institute-of-management-studies/cifar10-manual-sweep/runs/5oh0v7sr' target=\"_blank\">https://wandb.ai/ar17-svkm-s-narsee-monjee-institute-of-management-studies/cifar10-manual-sweep/runs/5oh0v7sr</a>"
            ]
          },
          "metadata": {}
        },
        {
          "output_type": "stream",
          "name": "stdout",
          "text": [
            "Epoch 1/15\n",
            "\u001b[1m1563/1563\u001b[0m \u001b[32m━━━━━━━━━━━━━━━━━━━━\u001b[0m\u001b[37m\u001b[0m \u001b[1m12s\u001b[0m 6ms/step - accuracy: 0.3666 - loss: 1.7486 - val_accuracy: 0.5509 - val_loss: 1.2964\n",
            "Epoch 2/15\n",
            "\u001b[1m1563/1563\u001b[0m \u001b[32m━━━━━━━━━━━━━━━━━━━━\u001b[0m\u001b[37m\u001b[0m \u001b[1m7s\u001b[0m 4ms/step - accuracy: 0.5852 - loss: 1.1779 - val_accuracy: 0.5492 - val_loss: 1.2745\n",
            "Epoch 3/15\n",
            "\u001b[1m1563/1563\u001b[0m \u001b[32m━━━━━━━━━━━━━━━━━━━━\u001b[0m\u001b[37m\u001b[0m \u001b[1m7s\u001b[0m 4ms/step - accuracy: 0.6453 - loss: 1.0213 - val_accuracy: 0.6609 - val_loss: 0.9908\n",
            "Epoch 4/15\n",
            "\u001b[1m1563/1563\u001b[0m \u001b[32m━━━━━━━━━━━━━━━━━━━━\u001b[0m\u001b[37m\u001b[0m \u001b[1m7s\u001b[0m 4ms/step - accuracy: 0.6763 - loss: 0.9338 - val_accuracy: 0.6472 - val_loss: 1.0845\n",
            "Epoch 5/15\n",
            "\u001b[1m1563/1563\u001b[0m \u001b[32m━━━━━━━━━━━━━━━━━━━━\u001b[0m\u001b[37m\u001b[0m \u001b[1m6s\u001b[0m 4ms/step - accuracy: 0.6981 - loss: 0.8882 - val_accuracy: 0.6787 - val_loss: 0.9603\n",
            "Epoch 6/15\n",
            "\u001b[1m1563/1563\u001b[0m \u001b[32m━━━━━━━━━━━━━━━━━━━━\u001b[0m\u001b[37m\u001b[0m \u001b[1m7s\u001b[0m 4ms/step - accuracy: 0.7120 - loss: 0.8505 - val_accuracy: 0.6701 - val_loss: 1.0028\n",
            "Epoch 7/15\n",
            "\u001b[1m1563/1563\u001b[0m \u001b[32m━━━━━━━━━━━━━━━━━━━━\u001b[0m\u001b[37m\u001b[0m \u001b[1m6s\u001b[0m 4ms/step - accuracy: 0.7266 - loss: 0.8306 - val_accuracy: 0.6940 - val_loss: 0.9427\n",
            "Epoch 8/15\n",
            "\u001b[1m1563/1563\u001b[0m \u001b[32m━━━━━━━━━━━━━━━━━━━━\u001b[0m\u001b[37m\u001b[0m \u001b[1m8s\u001b[0m 5ms/step - accuracy: 0.7263 - loss: 0.8327 - val_accuracy: 0.6606 - val_loss: 1.0552\n",
            "Epoch 9/15\n",
            "\u001b[1m1563/1563\u001b[0m \u001b[32m━━━━━━━━━━━━━━━━━━━━\u001b[0m\u001b[37m\u001b[0m \u001b[1m7s\u001b[0m 4ms/step - accuracy: 0.7334 - loss: 0.8166 - val_accuracy: 0.6745 - val_loss: 1.1087\n",
            "Epoch 10/15\n",
            "\u001b[1m1563/1563\u001b[0m \u001b[32m━━━━━━━━━━━━━━━━━━━━\u001b[0m\u001b[37m\u001b[0m \u001b[1m8s\u001b[0m 5ms/step - accuracy: 0.7307 - loss: 0.8215 - val_accuracy: 0.6893 - val_loss: 0.9616\n",
            "Epoch 11/15\n",
            "\u001b[1m1563/1563\u001b[0m \u001b[32m━━━━━━━━━━━━━━━━━━━━\u001b[0m\u001b[37m\u001b[0m \u001b[1m6s\u001b[0m 4ms/step - accuracy: 0.7369 - loss: 0.8025 - val_accuracy: 0.6751 - val_loss: 0.9856\n",
            "Epoch 12/15\n",
            "\u001b[1m1563/1563\u001b[0m \u001b[32m━━━━━━━━━━━━━━━━━━━━\u001b[0m\u001b[37m\u001b[0m \u001b[1m7s\u001b[0m 4ms/step - accuracy: 0.7337 - loss: 0.8059 - val_accuracy: 0.6986 - val_loss: 0.9730\n",
            "Epoch 13/15\n",
            "\u001b[1m1563/1563\u001b[0m \u001b[32m━━━━━━━━━━━━━━━━━━━━\u001b[0m\u001b[37m\u001b[0m \u001b[1m6s\u001b[0m 4ms/step - accuracy: 0.7325 - loss: 0.8207 - val_accuracy: 0.6944 - val_loss: 1.0719\n",
            "Epoch 14/15\n",
            "\u001b[1m1563/1563\u001b[0m \u001b[32m━━━━━━━━━━━━━━━━━━━━\u001b[0m\u001b[37m\u001b[0m \u001b[1m7s\u001b[0m 5ms/step - accuracy: 0.7335 - loss: 0.8164 - val_accuracy: 0.6748 - val_loss: 1.0833\n",
            "Epoch 15/15\n",
            "\u001b[1m1563/1563\u001b[0m \u001b[32m━━━━━━━━━━━━━━━━━━━━\u001b[0m\u001b[37m\u001b[0m \u001b[1m6s\u001b[0m 4ms/step - accuracy: 0.7340 - loss: 0.8130 - val_accuracy: 0.7045 - val_loss: 1.1112\n"
          ]
        },
        {
          "output_type": "display_data",
          "data": {
            "text/plain": [
              "<IPython.core.display.HTML object>"
            ],
            "text/html": []
          },
          "metadata": {}
        },
        {
          "output_type": "display_data",
          "data": {
            "text/plain": [
              "<IPython.core.display.HTML object>"
            ],
            "text/html": [
              "<br>    <style><br>        .wandb-row {<br>            display: flex;<br>            flex-direction: row;<br>            flex-wrap: wrap;<br>            justify-content: flex-start;<br>            width: 100%;<br>        }<br>        .wandb-col {<br>            display: flex;<br>            flex-direction: column;<br>            flex-basis: 100%;<br>            flex: 1;<br>            padding: 10px;<br>        }<br>    </style><br><div class=\"wandb-row\"><div class=\"wandb-col\"><h3>Run history:</h3><br/><table class=\"wandb\"><tr><td>accuracy</td><td>▁▅▆▇▇▇█████████</td></tr><tr><td>loss</td><td>█▄▃▂▂▁▁▁▁▁▁▁▁▁▁</td></tr><tr><td>val_accuracy</td><td>▁▁▆▅▇▆█▆▇▇▇██▇█</td></tr><tr><td>val_loss</td><td>██▂▄▁▂▁▃▄▁▂▂▄▄▄</td></tr></table><br/></div><div class=\"wandb-col\"><h3>Run summary:</h3><br/><table class=\"wandb\"><tr><td>accuracy</td><td>0.72918</td></tr><tr><td>loss</td><td>0.83224</td></tr><tr><td>val_accuracy</td><td>0.7045</td></tr><tr><td>val_loss</td><td>1.11118</td></tr></table><br/></div></div>"
            ]
          },
          "metadata": {}
        },
        {
          "output_type": "display_data",
          "data": {
            "text/plain": [
              "<IPython.core.display.HTML object>"
            ],
            "text/html": [
              " View run <strong style=\"color:#cdcd00\">ethereal-sweep-8</strong> at: <a href='https://wandb.ai/ar17-svkm-s-narsee-monjee-institute-of-management-studies/cifar10-manual-sweep/runs/5oh0v7sr' target=\"_blank\">https://wandb.ai/ar17-svkm-s-narsee-monjee-institute-of-management-studies/cifar10-manual-sweep/runs/5oh0v7sr</a><br> View project at: <a href='https://wandb.ai/ar17-svkm-s-narsee-monjee-institute-of-management-studies/cifar10-manual-sweep' target=\"_blank\">https://wandb.ai/ar17-svkm-s-narsee-monjee-institute-of-management-studies/cifar10-manual-sweep</a><br>Synced 5 W&B file(s), 0 media file(s), 0 artifact file(s) and 0 other file(s)"
            ]
          },
          "metadata": {}
        },
        {
          "output_type": "display_data",
          "data": {
            "text/plain": [
              "<IPython.core.display.HTML object>"
            ],
            "text/html": [
              "Find logs at: <code>./wandb/run-20250928_111946-5oh0v7sr/logs</code>"
            ]
          },
          "metadata": {}
        },
        {
          "output_type": "stream",
          "name": "stderr",
          "text": [
            "\u001b[34m\u001b[1mwandb\u001b[0m: Agent Starting Run: lucjf0tp with config:\n",
            "\u001b[34m\u001b[1mwandb\u001b[0m: \tdropout: 0.22506964949224492\n",
            "\u001b[34m\u001b[1mwandb\u001b[0m: \tepochs: 5\n",
            "\u001b[34m\u001b[1mwandb\u001b[0m: \tlearning_rate: 0.01\n",
            "\u001b[34m\u001b[1mwandb\u001b[0m: \tnum_conv_layers: 2\n",
            "\u001b[34m\u001b[1mwandb\u001b[0m: \toptimizer: adam\n"
          ]
        },
        {
          "output_type": "display_data",
          "data": {
            "text/plain": [
              "<IPython.core.display.HTML object>"
            ],
            "text/html": []
          },
          "metadata": {}
        },
        {
          "output_type": "display_data",
          "data": {
            "text/plain": [
              "<IPython.core.display.HTML object>"
            ],
            "text/html": [
              "Tracking run with wandb version 0.22.0"
            ]
          },
          "metadata": {}
        },
        {
          "output_type": "display_data",
          "data": {
            "text/plain": [
              "<IPython.core.display.HTML object>"
            ],
            "text/html": [
              "Run data is saved locally in <code>/content/wandb/run-20250928_112142-lucjf0tp</code>"
            ]
          },
          "metadata": {}
        },
        {
          "output_type": "display_data",
          "data": {
            "text/plain": [
              "<IPython.core.display.HTML object>"
            ],
            "text/html": [
              "Syncing run <strong><a href='https://wandb.ai/ar17-svkm-s-narsee-monjee-institute-of-management-studies/cifar10-manual-sweep/runs/lucjf0tp' target=\"_blank\">twilight-sweep-9</a></strong> to <a href='https://wandb.ai/ar17-svkm-s-narsee-monjee-institute-of-management-studies/cifar10-manual-sweep' target=\"_blank\">Weights & Biases</a> (<a href='https://wandb.me/developer-guide' target=\"_blank\">docs</a>)<br>Sweep page: <a href='https://wandb.ai/ar17-svkm-s-narsee-monjee-institute-of-management-studies/cifar10-manual-sweep/sweeps/05ln39pq' target=\"_blank\">https://wandb.ai/ar17-svkm-s-narsee-monjee-institute-of-management-studies/cifar10-manual-sweep/sweeps/05ln39pq</a>"
            ]
          },
          "metadata": {}
        },
        {
          "output_type": "display_data",
          "data": {
            "text/plain": [
              "<IPython.core.display.HTML object>"
            ],
            "text/html": [
              " View project at <a href='https://wandb.ai/ar17-svkm-s-narsee-monjee-institute-of-management-studies/cifar10-manual-sweep' target=\"_blank\">https://wandb.ai/ar17-svkm-s-narsee-monjee-institute-of-management-studies/cifar10-manual-sweep</a>"
            ]
          },
          "metadata": {}
        },
        {
          "output_type": "display_data",
          "data": {
            "text/plain": [
              "<IPython.core.display.HTML object>"
            ],
            "text/html": [
              " View sweep at <a href='https://wandb.ai/ar17-svkm-s-narsee-monjee-institute-of-management-studies/cifar10-manual-sweep/sweeps/05ln39pq' target=\"_blank\">https://wandb.ai/ar17-svkm-s-narsee-monjee-institute-of-management-studies/cifar10-manual-sweep/sweeps/05ln39pq</a>"
            ]
          },
          "metadata": {}
        },
        {
          "output_type": "display_data",
          "data": {
            "text/plain": [
              "<IPython.core.display.HTML object>"
            ],
            "text/html": [
              " View run at <a href='https://wandb.ai/ar17-svkm-s-narsee-monjee-institute-of-management-studies/cifar10-manual-sweep/runs/lucjf0tp' target=\"_blank\">https://wandb.ai/ar17-svkm-s-narsee-monjee-institute-of-management-studies/cifar10-manual-sweep/runs/lucjf0tp</a>"
            ]
          },
          "metadata": {}
        },
        {
          "output_type": "stream",
          "name": "stdout",
          "text": [
            "Epoch 1/5\n",
            "\u001b[1m1563/1563\u001b[0m \u001b[32m━━━━━━━━━━━━━━━━━━━━\u001b[0m\u001b[37m\u001b[0m \u001b[1m15s\u001b[0m 7ms/step - accuracy: 0.3091 - loss: 1.8353 - val_accuracy: 0.5441 - val_loss: 1.2704\n",
            "Epoch 2/5\n",
            "\u001b[1m1563/1563\u001b[0m \u001b[32m━━━━━━━━━━━━━━━━━━━━\u001b[0m\u001b[37m\u001b[0m \u001b[1m8s\u001b[0m 5ms/step - accuracy: 0.5474 - loss: 1.2566 - val_accuracy: 0.6021 - val_loss: 1.1255\n",
            "Epoch 3/5\n",
            "\u001b[1m1563/1563\u001b[0m \u001b[32m━━━━━━━━━━━━━━━━━━━━\u001b[0m\u001b[37m\u001b[0m \u001b[1m7s\u001b[0m 4ms/step - accuracy: 0.6146 - loss: 1.0741 - val_accuracy: 0.6276 - val_loss: 1.0603\n",
            "Epoch 4/5\n",
            "\u001b[1m1563/1563\u001b[0m \u001b[32m━━━━━━━━━━━━━━━━━━━━\u001b[0m\u001b[37m\u001b[0m \u001b[1m8s\u001b[0m 5ms/step - accuracy: 0.6534 - loss: 0.9764 - val_accuracy: 0.6624 - val_loss: 0.9535\n",
            "Epoch 5/5\n",
            "\u001b[1m1563/1563\u001b[0m \u001b[32m━━━━━━━━━━━━━━━━━━━━\u001b[0m\u001b[37m\u001b[0m \u001b[1m7s\u001b[0m 4ms/step - accuracy: 0.6838 - loss: 0.8938 - val_accuracy: 0.6719 - val_loss: 0.9207\n"
          ]
        },
        {
          "output_type": "display_data",
          "data": {
            "text/plain": [
              "<IPython.core.display.HTML object>"
            ],
            "text/html": []
          },
          "metadata": {}
        },
        {
          "output_type": "display_data",
          "data": {
            "text/plain": [
              "<IPython.core.display.HTML object>"
            ],
            "text/html": [
              "<br>    <style><br>        .wandb-row {<br>            display: flex;<br>            flex-direction: row;<br>            flex-wrap: wrap;<br>            justify-content: flex-start;<br>            width: 100%;<br>        }<br>        .wandb-col {<br>            display: flex;<br>            flex-direction: column;<br>            flex-basis: 100%;<br>            flex: 1;<br>            padding: 10px;<br>        }<br>    </style><br><div class=\"wandb-row\"><div class=\"wandb-col\"><h3>Run history:</h3><br/><table class=\"wandb\"><tr><td>accuracy</td><td>▁▅▆▇█</td></tr><tr><td>loss</td><td>█▄▃▂▁</td></tr><tr><td>val_accuracy</td><td>▁▄▆▇█</td></tr><tr><td>val_loss</td><td>█▅▄▂▁</td></tr></table><br/></div><div class=\"wandb-col\"><h3>Run summary:</h3><br/><table class=\"wandb\"><tr><td>accuracy</td><td>0.68348</td></tr><tr><td>loss</td><td>0.89715</td></tr><tr><td>val_accuracy</td><td>0.6719</td></tr><tr><td>val_loss</td><td>0.9207</td></tr></table><br/></div></div>"
            ]
          },
          "metadata": {}
        },
        {
          "output_type": "display_data",
          "data": {
            "text/plain": [
              "<IPython.core.display.HTML object>"
            ],
            "text/html": [
              " View run <strong style=\"color:#cdcd00\">twilight-sweep-9</strong> at: <a href='https://wandb.ai/ar17-svkm-s-narsee-monjee-institute-of-management-studies/cifar10-manual-sweep/runs/lucjf0tp' target=\"_blank\">https://wandb.ai/ar17-svkm-s-narsee-monjee-institute-of-management-studies/cifar10-manual-sweep/runs/lucjf0tp</a><br> View project at: <a href='https://wandb.ai/ar17-svkm-s-narsee-monjee-institute-of-management-studies/cifar10-manual-sweep' target=\"_blank\">https://wandb.ai/ar17-svkm-s-narsee-monjee-institute-of-management-studies/cifar10-manual-sweep</a><br>Synced 5 W&B file(s), 0 media file(s), 0 artifact file(s) and 0 other file(s)"
            ]
          },
          "metadata": {}
        },
        {
          "output_type": "display_data",
          "data": {
            "text/plain": [
              "<IPython.core.display.HTML object>"
            ],
            "text/html": [
              "Find logs at: <code>./wandb/run-20250928_112142-lucjf0tp/logs</code>"
            ]
          },
          "metadata": {}
        },
        {
          "output_type": "stream",
          "name": "stderr",
          "text": [
            "\u001b[34m\u001b[1mwandb\u001b[0m: Agent Starting Run: vuva9mt6 with config:\n",
            "\u001b[34m\u001b[1mwandb\u001b[0m: \tdropout: 0.31278955721628077\n",
            "\u001b[34m\u001b[1mwandb\u001b[0m: \tepochs: 10\n",
            "\u001b[34m\u001b[1mwandb\u001b[0m: \tlearning_rate: 0.01\n",
            "\u001b[34m\u001b[1mwandb\u001b[0m: \tnum_conv_layers: 2\n",
            "\u001b[34m\u001b[1mwandb\u001b[0m: \toptimizer: adam\n"
          ]
        },
        {
          "output_type": "display_data",
          "data": {
            "text/plain": [
              "<IPython.core.display.HTML object>"
            ],
            "text/html": []
          },
          "metadata": {}
        },
        {
          "output_type": "display_data",
          "data": {
            "text/plain": [
              "<IPython.core.display.HTML object>"
            ],
            "text/html": [
              "Tracking run with wandb version 0.22.0"
            ]
          },
          "metadata": {}
        },
        {
          "output_type": "display_data",
          "data": {
            "text/plain": [
              "<IPython.core.display.HTML object>"
            ],
            "text/html": [
              "Run data is saved locally in <code>/content/wandb/run-20250928_112239-vuva9mt6</code>"
            ]
          },
          "metadata": {}
        },
        {
          "output_type": "display_data",
          "data": {
            "text/plain": [
              "<IPython.core.display.HTML object>"
            ],
            "text/html": [
              "Syncing run <strong><a href='https://wandb.ai/ar17-svkm-s-narsee-monjee-institute-of-management-studies/cifar10-manual-sweep/runs/vuva9mt6' target=\"_blank\">legendary-sweep-10</a></strong> to <a href='https://wandb.ai/ar17-svkm-s-narsee-monjee-institute-of-management-studies/cifar10-manual-sweep' target=\"_blank\">Weights & Biases</a> (<a href='https://wandb.me/developer-guide' target=\"_blank\">docs</a>)<br>Sweep page: <a href='https://wandb.ai/ar17-svkm-s-narsee-monjee-institute-of-management-studies/cifar10-manual-sweep/sweeps/05ln39pq' target=\"_blank\">https://wandb.ai/ar17-svkm-s-narsee-monjee-institute-of-management-studies/cifar10-manual-sweep/sweeps/05ln39pq</a>"
            ]
          },
          "metadata": {}
        },
        {
          "output_type": "display_data",
          "data": {
            "text/plain": [
              "<IPython.core.display.HTML object>"
            ],
            "text/html": [
              " View project at <a href='https://wandb.ai/ar17-svkm-s-narsee-monjee-institute-of-management-studies/cifar10-manual-sweep' target=\"_blank\">https://wandb.ai/ar17-svkm-s-narsee-monjee-institute-of-management-studies/cifar10-manual-sweep</a>"
            ]
          },
          "metadata": {}
        },
        {
          "output_type": "display_data",
          "data": {
            "text/plain": [
              "<IPython.core.display.HTML object>"
            ],
            "text/html": [
              " View sweep at <a href='https://wandb.ai/ar17-svkm-s-narsee-monjee-institute-of-management-studies/cifar10-manual-sweep/sweeps/05ln39pq' target=\"_blank\">https://wandb.ai/ar17-svkm-s-narsee-monjee-institute-of-management-studies/cifar10-manual-sweep/sweeps/05ln39pq</a>"
            ]
          },
          "metadata": {}
        },
        {
          "output_type": "display_data",
          "data": {
            "text/plain": [
              "<IPython.core.display.HTML object>"
            ],
            "text/html": [
              " View run at <a href='https://wandb.ai/ar17-svkm-s-narsee-monjee-institute-of-management-studies/cifar10-manual-sweep/runs/vuva9mt6' target=\"_blank\">https://wandb.ai/ar17-svkm-s-narsee-monjee-institute-of-management-studies/cifar10-manual-sweep/runs/vuva9mt6</a>"
            ]
          },
          "metadata": {}
        },
        {
          "output_type": "stream",
          "name": "stdout",
          "text": [
            "Epoch 1/10\n",
            "\u001b[1m1563/1563\u001b[0m \u001b[32m━━━━━━━━━━━━━━━━━━━━\u001b[0m\u001b[37m\u001b[0m \u001b[1m14s\u001b[0m 6ms/step - accuracy: 0.3154 - loss: 1.8240 - val_accuracy: 0.5239 - val_loss: 1.3304\n",
            "Epoch 2/10\n",
            "\u001b[1m1563/1563\u001b[0m \u001b[32m━━━━━━━━━━━━━━━━━━━━\u001b[0m\u001b[37m\u001b[0m \u001b[1m7s\u001b[0m 4ms/step - accuracy: 0.5425 - loss: 1.2819 - val_accuracy: 0.6027 - val_loss: 1.1086\n",
            "Epoch 3/10\n",
            "\u001b[1m1563/1563\u001b[0m \u001b[32m━━━━━━━━━━━━━━━━━━━━\u001b[0m\u001b[37m\u001b[0m \u001b[1m7s\u001b[0m 5ms/step - accuracy: 0.6105 - loss: 1.0978 - val_accuracy: 0.6397 - val_loss: 1.0333\n",
            "Epoch 4/10\n",
            "\u001b[1m1563/1563\u001b[0m \u001b[32m━━━━━━━━━━━━━━━━━━━━\u001b[0m\u001b[37m\u001b[0m \u001b[1m6s\u001b[0m 4ms/step - accuracy: 0.6475 - loss: 1.0008 - val_accuracy: 0.6653 - val_loss: 0.9562\n",
            "Epoch 5/10\n",
            "\u001b[1m1563/1563\u001b[0m \u001b[32m━━━━━━━━━━━━━━━━━━━━\u001b[0m\u001b[37m\u001b[0m \u001b[1m7s\u001b[0m 5ms/step - accuracy: 0.6753 - loss: 0.9260 - val_accuracy: 0.6788 - val_loss: 0.9099\n",
            "Epoch 6/10\n",
            "\u001b[1m1563/1563\u001b[0m \u001b[32m━━━━━━━━━━━━━━━━━━━━\u001b[0m\u001b[37m\u001b[0m \u001b[1m6s\u001b[0m 4ms/step - accuracy: 0.6965 - loss: 0.8688 - val_accuracy: 0.6879 - val_loss: 0.9087\n",
            "Epoch 7/10\n",
            "\u001b[1m1563/1563\u001b[0m \u001b[32m━━━━━━━━━━━━━━━━━━━━\u001b[0m\u001b[37m\u001b[0m \u001b[1m7s\u001b[0m 5ms/step - accuracy: 0.7113 - loss: 0.8277 - val_accuracy: 0.6959 - val_loss: 0.8894\n",
            "Epoch 8/10\n",
            "\u001b[1m1563/1563\u001b[0m \u001b[32m━━━━━━━━━━━━━━━━━━━━\u001b[0m\u001b[37m\u001b[0m \u001b[1m6s\u001b[0m 4ms/step - accuracy: 0.7303 - loss: 0.7732 - val_accuracy: 0.6878 - val_loss: 0.9100\n",
            "Epoch 9/10\n",
            "\u001b[1m1563/1563\u001b[0m \u001b[32m━━━━━━━━━━━━━━━━━━━━\u001b[0m\u001b[37m\u001b[0m \u001b[1m7s\u001b[0m 5ms/step - accuracy: 0.7349 - loss: 0.7472 - val_accuracy: 0.7043 - val_loss: 0.8618\n",
            "Epoch 10/10\n",
            "\u001b[1m1563/1563\u001b[0m \u001b[32m━━━━━━━━━━━━━━━━━━━━\u001b[0m\u001b[37m\u001b[0m \u001b[1m6s\u001b[0m 4ms/step - accuracy: 0.7498 - loss: 0.7089 - val_accuracy: 0.7153 - val_loss: 0.8486\n"
          ]
        },
        {
          "output_type": "display_data",
          "data": {
            "text/plain": [
              "<IPython.core.display.HTML object>"
            ],
            "text/html": []
          },
          "metadata": {}
        },
        {
          "output_type": "display_data",
          "data": {
            "text/plain": [
              "<IPython.core.display.HTML object>"
            ],
            "text/html": [
              "<br>    <style><br>        .wandb-row {<br>            display: flex;<br>            flex-direction: row;<br>            flex-wrap: wrap;<br>            justify-content: flex-start;<br>            width: 100%;<br>        }<br>        .wandb-col {<br>            display: flex;<br>            flex-direction: column;<br>            flex-basis: 100%;<br>            flex: 1;<br>            padding: 10px;<br>        }<br>    </style><br><div class=\"wandb-row\"><div class=\"wandb-col\"><h3>Run history:</h3><br/><table class=\"wandb\"><tr><td>accuracy</td><td>▁▄▅▆▇▇▇███</td></tr><tr><td>loss</td><td>█▅▄▃▃▂▂▁▁▁</td></tr><tr><td>val_accuracy</td><td>▁▄▅▆▇▇▇▇██</td></tr><tr><td>val_loss</td><td>█▅▄▃▂▂▂▂▁▁</td></tr></table><br/></div><div class=\"wandb-col\"><h3>Run summary:</h3><br/><table class=\"wandb\"><tr><td>accuracy</td><td>0.74432</td></tr><tr><td>loss</td><td>0.72761</td></tr><tr><td>val_accuracy</td><td>0.7153</td></tr><tr><td>val_loss</td><td>0.84864</td></tr></table><br/></div></div>"
            ]
          },
          "metadata": {}
        },
        {
          "output_type": "display_data",
          "data": {
            "text/plain": [
              "<IPython.core.display.HTML object>"
            ],
            "text/html": [
              " View run <strong style=\"color:#cdcd00\">legendary-sweep-10</strong> at: <a href='https://wandb.ai/ar17-svkm-s-narsee-monjee-institute-of-management-studies/cifar10-manual-sweep/runs/vuva9mt6' target=\"_blank\">https://wandb.ai/ar17-svkm-s-narsee-monjee-institute-of-management-studies/cifar10-manual-sweep/runs/vuva9mt6</a><br> View project at: <a href='https://wandb.ai/ar17-svkm-s-narsee-monjee-institute-of-management-studies/cifar10-manual-sweep' target=\"_blank\">https://wandb.ai/ar17-svkm-s-narsee-monjee-institute-of-management-studies/cifar10-manual-sweep</a><br>Synced 5 W&B file(s), 0 media file(s), 0 artifact file(s) and 0 other file(s)"
            ]
          },
          "metadata": {}
        },
        {
          "output_type": "display_data",
          "data": {
            "text/plain": [
              "<IPython.core.display.HTML object>"
            ],
            "text/html": [
              "Find logs at: <code>./wandb/run-20250928_112239-vuva9mt6/logs</code>"
            ]
          },
          "metadata": {}
        }
      ]
    },
    {
      "cell_type": "markdown",
      "source": [
        "![image.png](data:image/png;base64,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)\n"
      ],
      "metadata": {
        "id": "yKnW786cCYTo"
      }
    },
    {
      "cell_type": "markdown",
      "source": [
        "![image.png](data:image/png;base64,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)\n"
      ],
      "metadata": {
        "id": "QsIWdem3CqAU"
      }
    },
    {
      "cell_type": "markdown",
      "source": [
        "![image.png](data:image/png;base64,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)"
      ],
      "metadata": {
        "id": "VVBJA8t-Cy_C"
      }
    },
    {
      "cell_type": "markdown",
      "source": [
        "![image.png](data:image/png;base64,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)"
      ],
      "metadata": {
        "id": "7BckGmeIAJK5"
      }
    },
    {
      "cell_type": "code",
      "source": [
        "import numpy as np\n",
        "from sklearn.metrics import classification_report\n",
        "\n",
        "BEST_CONFIG = {\n",
        "    'optimizer': 'adam',\n",
        "    'epochs': 10,\n",
        "    'num_conv_layers': 2,\n",
        "    'dropout': 0.3\n",
        "}\n",
        "\n",
        "(x_train, y_train), (x_test, y_test) = cifar10.load_data()\n",
        "x_train = x_train.astype('float32') / 255.0\n",
        "x_test = x_test.astype('float32') / 255.0\n",
        "y_train_cat = to_categorical(y_train, 10)\n",
        "y_test_cat = to_categorical(y_test, 10)\n",
        "\n",
        "final_model = Sequential()\n",
        "final_model.add(Conv2D(32, (3, 3), activation='relu', input_shape=(32, 32, 3)))\n",
        "final_model.add(MaxPooling2D(pool_size=(2, 2)))\n",
        "for _ in range(BEST_CONFIG['num_conv_layers']):\n",
        "    final_model.add(Conv2D(64, (3, 3), activation='relu'))\n",
        "    final_model.add(MaxPooling2D(pool_size=(2, 2)))\n",
        "final_model.add(Flatten())\n",
        "final_model.add(Dense(128, activation='relu'))\n",
        "final_model.add(Dropout(BEST_CONFIG['dropout']))\n",
        "final_model.add(Dense(10, activation='softmax'))\n",
        "\n",
        "final_model.compile(optimizer=BEST_CONFIG['optimizer'],\n",
        "                    loss='categorical_crossentropy',\n",
        "                    metrics=['accuracy'])\n",
        "\n",
        "final_model.fit(x_train, y_train_cat, epochs=BEST_CONFIG['epochs'], validation_data=(x_test, y_test_cat))\n",
        "\n",
        "predictions = final_model.predict(x_test)\n",
        "predicted_classes = np.argmax(predictions, axis=1)\n",
        "\n",
        "class_names = ['airplane', 'automobile', 'bird', 'cat', 'deer',\n",
        "               'dog', 'frog', 'horse', 'ship', 'truck']\n",
        "\n",
        "print(\"\\nFinal Model Classification Report\")\n",
        "print(classification_report(y_test, predicted_classes, target_names=class_names))"
      ],
      "metadata": {
        "id": "IKMEBd2WFHn5",
        "outputId": "bf8d25f3-95db-4a69-e2ac-8c41fd23679c",
        "colab": {
          "base_uri": "https://localhost:8080/",
          "height": 0
        }
      },
      "execution_count": 10,
      "outputs": [
        {
          "output_type": "stream",
          "name": "stdout",
          "text": [
            "Epoch 1/10\n",
            "\u001b[1m1563/1563\u001b[0m \u001b[32m━━━━━━━━━━━━━━━━━━━━\u001b[0m\u001b[37m\u001b[0m \u001b[1m14s\u001b[0m 7ms/step - accuracy: 0.3163 - loss: 1.8243 - val_accuracy: 0.5336 - val_loss: 1.2921\n",
            "Epoch 2/10\n",
            "\u001b[1m1563/1563\u001b[0m \u001b[32m━━━━━━━━━━━━━━━━━━━━\u001b[0m\u001b[37m\u001b[0m \u001b[1m7s\u001b[0m 5ms/step - accuracy: 0.5457 - loss: 1.2767 - val_accuracy: 0.6238 - val_loss: 1.0742\n",
            "Epoch 3/10\n",
            "\u001b[1m1563/1563\u001b[0m \u001b[32m━━━━━━━━━━━━━━━━━━━━\u001b[0m\u001b[37m\u001b[0m \u001b[1m6s\u001b[0m 4ms/step - accuracy: 0.6118 - loss: 1.1059 - val_accuracy: 0.6362 - val_loss: 1.0220\n",
            "Epoch 4/10\n",
            "\u001b[1m1563/1563\u001b[0m \u001b[32m━━━━━━━━━━━━━━━━━━━━\u001b[0m\u001b[37m\u001b[0m \u001b[1m7s\u001b[0m 5ms/step - accuracy: 0.6456 - loss: 1.0034 - val_accuracy: 0.6202 - val_loss: 1.0910\n",
            "Epoch 5/10\n",
            "\u001b[1m1563/1563\u001b[0m \u001b[32m━━━━━━━━━━━━━━━━━━━━\u001b[0m\u001b[37m\u001b[0m \u001b[1m6s\u001b[0m 4ms/step - accuracy: 0.6696 - loss: 0.9291 - val_accuracy: 0.6752 - val_loss: 0.9224\n",
            "Epoch 6/10\n",
            "\u001b[1m1563/1563\u001b[0m \u001b[32m━━━━━━━━━━━━━━━━━━━━\u001b[0m\u001b[37m\u001b[0m \u001b[1m7s\u001b[0m 5ms/step - accuracy: 0.6941 - loss: 0.8688 - val_accuracy: 0.6928 - val_loss: 0.8800\n",
            "Epoch 7/10\n",
            "\u001b[1m1563/1563\u001b[0m \u001b[32m━━━━━━━━━━━━━━━━━━━━\u001b[0m\u001b[37m\u001b[0m \u001b[1m6s\u001b[0m 4ms/step - accuracy: 0.7165 - loss: 0.8184 - val_accuracy: 0.6945 - val_loss: 0.8687\n",
            "Epoch 8/10\n",
            "\u001b[1m1563/1563\u001b[0m \u001b[32m━━━━━━━━━━━━━━━━━━━━\u001b[0m\u001b[37m\u001b[0m \u001b[1m7s\u001b[0m 5ms/step - accuracy: 0.7276 - loss: 0.7731 - val_accuracy: 0.7021 - val_loss: 0.8554\n",
            "Epoch 9/10\n",
            "\u001b[1m1563/1563\u001b[0m \u001b[32m━━━━━━━━━━━━━━━━━━━━\u001b[0m\u001b[37m\u001b[0m \u001b[1m7s\u001b[0m 4ms/step - accuracy: 0.7354 - loss: 0.7519 - val_accuracy: 0.7035 - val_loss: 0.8381\n",
            "Epoch 10/10\n",
            "\u001b[1m1563/1563\u001b[0m \u001b[32m━━━━━━━━━━━━━━━━━━━━\u001b[0m\u001b[37m\u001b[0m \u001b[1m8s\u001b[0m 5ms/step - accuracy: 0.7459 - loss: 0.7210 - val_accuracy: 0.7038 - val_loss: 0.8619\n",
            "\u001b[1m313/313\u001b[0m \u001b[32m━━━━━━━━━━━━━━━━━━━━\u001b[0m\u001b[37m\u001b[0m \u001b[1m1s\u001b[0m 3ms/step\n",
            "\n",
            "Final Model Classification Report\n",
            "              precision    recall  f1-score   support\n",
            "\n",
            "    airplane       0.72      0.76      0.74      1000\n",
            "  automobile       0.84      0.84      0.84      1000\n",
            "        bird       0.59      0.61      0.60      1000\n",
            "         cat       0.49      0.53      0.51      1000\n",
            "        deer       0.74      0.53      0.62      1000\n",
            "         dog       0.55      0.67      0.60      1000\n",
            "        frog       0.82      0.72      0.77      1000\n",
            "       horse       0.73      0.75      0.74      1000\n",
            "        ship       0.81      0.83      0.82      1000\n",
            "       truck       0.80      0.80      0.80      1000\n",
            "\n",
            "    accuracy                           0.70     10000\n",
            "   macro avg       0.71      0.70      0.70     10000\n",
            "weighted avg       0.71      0.70      0.70     10000\n",
            "\n"
          ]
        }
      ]
    },
    {
      "cell_type": "markdown",
      "source": [],
      "metadata": {
        "id": "zCvvKve7BAuV"
      }
    }
  ],
  "metadata": {
    "accelerator": "GPU",
    "colab": {
      "provenance": [],
      "toc_visible": true,
      "include_colab_link": true
    },
    "kernelspec": {
      "display_name": "Python 3",
      "name": "python3"
    }
  },
  "nbformat": 4,
  "nbformat_minor": 0
}